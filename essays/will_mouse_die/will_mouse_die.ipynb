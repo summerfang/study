{
 "cells": [
  {
   "attachments": {},
   "cell_type": "markdown",
   "metadata": {},
   "source": [
    "# The Future of the Mouse: Will It Become Obsolete in the Age of AI?"
   ]
  },
  {
   "attachments": {},
   "cell_type": "markdown",
   "metadata": {},
   "source": [
    "<div style=\"display:flex; justify-content: space-between;\">\n",
    "    <div style=\"text-align:left;\"> By Summer Fang </div>\n",
    "    <div style=\"text-align:right;\"> April 5, 2023 </div>\n",
    "</div>"
   ]
  },
  {
   "attachments": {},
   "cell_type": "markdown",
   "metadata": {},
   "source": [
    "![]()\n",
    "![Mouse disappear?](./willmousedie.png)  \n",
    "\n",
    "\n",
    "For decades, the mouse has been the primary input device for computers. It has become a ubiquitous tool for navigating graphical user interfaces, editing documents, playing games, and performing many other tasks.The computer mouse was invented in 1964 by Douglas Engelbart and Bill English at the Stanford Research Institute. At that time, it was primarily used as a pointing device for graphical user interfaces (GUIs) to select objects and perform operations.The mouse became increasingly important as an input tool throughout the 1980s and 1990s, as GUI-based operating systems such as Apple's Macintosh and Microsoft Windows became popular. With the widespread adoption of personal computers, the mouse became an essential tool for navigating menus, selecting icons, and manipulating windows.\n",
    "\n",
    "However, with the rise of AI, the mouse's dominance is being challenged.Due to the fact that the significance of the mouse for user experience is currently collapsing, the primary factor that underscored its importance in the past is now changing.\n",
    "\n",
    "When examining a product's user experience from start to finish, it can be broken down into the following steps:\n",
    "\n",
    "Step 1: The user's intention\n",
    "\n",
    "Step 2: The mouse and keyboard working in tandem to translate the user's intention into an API that the computer can execute with precision.\n",
    "\n",
    "Step 3: The computer executing the API and presenting the resulting experience on the user's display device. This process can be dynamic and take place within a single screen.\n",
    "\n",
    "From this perspective, it becomes clear that the computer doesn't inherently understand the user's intention; rather, the mouse and keyboard serve as intermediaries to translate that intention into an API. To help users more efficiently convert their intentions into APIs, UX engineers have invented numerous components such as dropdown lists, calendar views, and dialog boxes that use multiple screens or views to simplify complex flows.\n",
    "\n",
    "However, with the advent of large language model-based NLP technology such as ChatGPT, the game has changed completely.\n",
    "\n",
    "In today's world, ChatGPT is capable of doing an excellent job of \"understanding\" the user's intention. While it is essentially a form of guesswork based on the behind-the-scenes technology, the precision it offers is often far beyond what is required. We've all had the experience of making typos or leaving out parts of a sentence, yet ChatGPT can still understand our questions. A critical step in this process is the ability to convert the \"understanding\" into a JSON format that can be easily matched with an API call.\n",
    "\n",
    "This change represents a revolutionary improvement, as it eliminates the need for many of the UI elements and flows that used to be the core of UI design. For example, on a travel website, users previously had to interact with numerous UI components and go through multiple steps to select their destination, airline, travel dates, and so on. A sophisticated calendar component might have been used to help users choose their check-in and check-out dates, perfectly optimized for mouse-driven interaction. However, with the advent of AI-driven services, all you need to provide is a simple statement like \"I will be staying in Los Angeles for three days starting on Saturday.\" This statement can be perfectly understood by the service and converted into a JSON format that represents the check-in and check-out dates, bypassing the need for the traditional UI components and workflows.\n",
    "\n",
    "The impact of this change cannot be overstated. In my three decades of developing software, I've found that writing dates into a database is a relatively straightforward task. However, the majority of development time, approximately 80%, is typically spent on writing the UI.\n",
    "\n",
    "The future of software product development will be dramatically transformed. Engineers will no longer need to spend time designing various UI elements and flows; instead, they will focus on matching the return JSON object from a language model to APIs. A possible common UI for many applications could be simplified to just two components:\n",
    "\n",
    "An input pad, which primarily accepts text input from a keyboard and generally does not require the use of a mouse.\n",
    "\n",
    "A response canvas, which displays or refreshes the result. This canvas can be as visually complex as desired, but it typically does not require interactive UI elements. If any are present, they can be safely ignored since using the keyboard to enter information is usually a more efficient way to refresh the UI.\n",
    "\n",
    "I'm not entirely certain whether the mouse will continue to play a significant role in software user experience going forward. While it may still exist, its importance is likely to diminish significantly compared to its current role."
   ]
  }
 ],
 "metadata": {
  "language_info": {
   "name": "python"
  },
  "orig_nbformat": 4
 },
 "nbformat": 4,
 "nbformat_minor": 2
}
