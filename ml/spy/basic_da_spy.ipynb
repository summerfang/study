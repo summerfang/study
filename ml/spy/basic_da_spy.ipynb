{
 "cells": [
  {
   "cell_type": "code",
   "execution_count": 11,
   "metadata": {},
   "outputs": [],
   "source": [
    "import pandas as pd\n",
    "import matplotlib.pyplot as plt\n",
    "import seaborn as sns\n"
   ]
  },
  {
   "cell_type": "code",
   "execution_count": 12,
   "metadata": {},
   "outputs": [],
   "source": [
    "df_spy = pd.read_csv('SPY_1min_sample.txt', sep=',')"
   ]
  },
  {
   "cell_type": "code",
   "execution_count": 13,
   "metadata": {},
   "outputs": [
    {
     "data": {
      "text/plain": [
       "0       453.94\n",
       "1       453.79\n",
       "2       453.90\n",
       "3       453.91\n",
       "4       453.96\n",
       "         ...  \n",
       "8139    438.22\n",
       "8140    438.24\n",
       "8141    438.24\n",
       "8142    438.20\n",
       "8143    438.20\n",
       "Name: 453.6000, Length: 8144, dtype: float64"
      ]
     },
     "execution_count": 13,
     "metadata": {},
     "output_type": "execute_result"
    }
   ],
   "source": [
    "# Ways to get one or more columns\n",
    "\n",
    "# Method 1\n",
    "close_prices = df_spy.iloc[:,4]\n",
    "close_prices\n"
   ]
  },
  {
   "cell_type": "code",
   "execution_count": 14,
   "metadata": {},
   "outputs": [
    {
     "data": {
      "text/plain": [
       "0       453.94\n",
       "1       453.79\n",
       "2       453.90\n",
       "3       453.91\n",
       "4       453.96\n",
       "         ...  \n",
       "8139    438.22\n",
       "8140    438.24\n",
       "8141    438.24\n",
       "8142    438.20\n",
       "8143    438.20\n",
       "Name: close, Length: 8144, dtype: float64"
      ]
     },
     "execution_count": 14,
     "metadata": {},
     "output_type": "execute_result"
    }
   ],
   "source": [
    "\n",
    "# Method 2\n",
    "df_spy.columns = ['DateTime', 'open', 'high', 'low', 'close', 'vol']\n",
    "close_prices_2 = df_spy.iloc[:]['close']\n",
    "close_prices_2\n"
   ]
  },
  {
   "cell_type": "code",
   "execution_count": 15,
   "metadata": {},
   "outputs": [
    {
     "name": "stdout",
     "output_type": "stream",
     "text": [
      "0       453.94\n",
      "1       453.79\n",
      "2       453.90\n",
      "3       453.91\n",
      "4       453.96\n",
      "         ...  \n",
      "8139    438.22\n",
      "8140    438.24\n",
      "8141    438.24\n",
      "8142    438.20\n",
      "8143    438.20\n",
      "Name: close, Length: 8144, dtype: float64\n"
     ]
    }
   ],
   "source": [
    "\n",
    "try:\n",
    "    close_prices_3 = df_spy.iloc[:,4]\n",
    "    print(close_prices_3)\n",
    "except:\n",
    "    print('After assign column name, you can not use index to get the column any more')"
   ]
  },
  {
   "cell_type": "code",
   "execution_count": 16,
   "metadata": {},
   "outputs": [
    {
     "data": {
      "text/plain": [
       "0       453.94\n",
       "1       453.79\n",
       "2       453.90\n",
       "3       453.91\n",
       "4       453.96\n",
       "         ...  \n",
       "8139    438.22\n",
       "8140    438.24\n",
       "8141    438.24\n",
       "8142    438.20\n",
       "8143    438.20\n",
       "Name: close, Length: 8144, dtype: float64"
      ]
     },
     "execution_count": 16,
     "metadata": {},
     "output_type": "execute_result"
    }
   ],
   "source": [
    "close_prices_4 = df_spy.close\n",
    "close_prices_4"
   ]
  },
  {
   "cell_type": "code",
   "execution_count": 17,
   "metadata": {},
   "outputs": [
    {
     "name": "stdout",
     "output_type": "stream",
     "text": [
      "<class 'pandas.core.series.Series'>\n",
      "<class 'pandas.core.series.Series'>\n",
      "<class 'pandas.core.series.Series'>\n"
     ]
    }
   ],
   "source": [
    "print(type(close_prices))\n",
    "print(type(close_prices_2))\n",
    "print(type(close_prices_4))"
   ]
  },
  {
   "cell_type": "code",
   "execution_count": 18,
   "metadata": {},
   "outputs": [
    {
     "data": {
      "text/plain": [
       "count    8144.000000\n",
       "mean      446.838453\n",
       "std         5.471105\n",
       "min       436.815000\n",
       "25%       442.150000\n",
       "50%       446.520000\n",
       "75%       451.470000\n",
       "max       457.640000\n",
       "Name: 453.6000, dtype: float64"
      ]
     },
     "execution_count": 18,
     "metadata": {},
     "output_type": "execute_result"
    }
   ],
   "source": [
    "close_prices.describe()"
   ]
  },
  {
   "cell_type": "code",
   "execution_count": 19,
   "metadata": {},
   "outputs": [
    {
     "data": {
      "text/plain": [
       "<seaborn.axisgrid.FacetGrid at 0x121350160>"
      ]
     },
     "execution_count": 19,
     "metadata": {},
     "output_type": "execute_result"
    },
    {
     "data": {
      "image/png": "[encoded data removed]",
      "text/plain": [
       "<Figure size 500x500 with 1 Axes>"
      ]
     },
     "metadata": {},
     "output_type": "display_data"
    }
   ],
   "source": [
    "sns.displot(close_prices)"
   ]
  },
  {
   "cell_type": "code",
   "execution_count": 20,
   "metadata": {},
   "outputs": [
    {
     "data": {
      "text/plain": [
       "<Axes: ylabel='453.6000'>"
      ]
     },
     "execution_count": 20,
     "metadata": {},
     "output_type": "execute_result"
    },
    {
     "data": {
      "image/png": "[encoded data removed]",
      "text/plain": [
       "<Figure size 640x480 with 1 Axes>"
      ]
     },
     "metadata": {},
     "output_type": "display_data"
    }
   ],
   "source": [
    "sns.boxplot(close_prices)"
   ]
  }
 ],
 "metadata": {
  "kernelspec": {
   "display_name": "Python 3",
   "language": "python",
   "name": "python3"
  },
  "language_info": {
   "codemirror_mode": {
    "name": "ipython",
    "version": 3
   },
   "file_extension": ".py",
   "mimetype": "text/x-python",
   "name": "python",
   "nbconvert_exporter": "python",
   "pygments_lexer": "ipython3",
   "version": "3.9.6"
  }
 },
 "nbformat": 4,
 "nbformat_minor": 2
}
