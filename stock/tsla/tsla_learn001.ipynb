{
 "cells": [
  {
   "cell_type": "code",
   "execution_count": 5,
   "metadata": {},
   "outputs": [
    {
     "name": "stdout",
     "output_type": "stream",
     "text": [
      "             Open   High    Low  Close  Adj Close    Volume\n",
      "Date                                                       \n",
      "2010-06-29  3.800  5.000  3.508  4.778      4.778  93831500\n",
      "2010-06-30  5.158  6.084  4.660  4.766      4.766  85935500\n",
      "2010-07-01  5.000  5.184  4.054  4.392      4.392  41094000\n",
      "2010-07-02  4.600  4.620  3.742  3.840      3.840  25699000\n",
      "2010-07-06  4.000  4.000  3.166  3.222      3.222  34334500\n"
     ]
    }
   ],
   "source": [
    "# Importing the libraries\n",
    "import numpy as np\n",
    "import pandas as pd\n",
    "import matplotlib.pyplot as plt\n",
    "\n",
    "from sklearn.preprocessing import MinMaxScaler\n",
    "from sklearn.metrics import mean_squared_error\n",
    "\n",
    "from tensorflow.keras.models import Sequential\n",
    "from tensorflow.keras.layers import Dense, LSTM, Dropout, GRU, Bidirectional\n",
    "from tensorflow.keras.optimizers import SGD\n",
    "from tensorflow.random import set_seed\n",
    "\n",
    "set_seed(455)\n",
    "np.random.seed(455)\n",
    "\n",
    "dataset = pd.read_csv(\"TSLA.csv\", index_col=\"Date\", parse_dates=[\"Date\"])\n",
    "print(dataset.head())"
   ]
  },
  {
   "cell_type": "code",
   "execution_count": 6,
   "metadata": {},
   "outputs": [
    {
     "name": "stdout",
     "output_type": "stream",
     "text": [
      "              Open         High          Low        Close    Adj Close  \\\n",
      "count  2973.000000  2973.000000  2973.000000  2973.000000  2973.000000   \n",
      "mean    143.883855   147.073134   140.523783   143.964734   143.964734   \n",
      "std     258.588832   264.562286   252.223405   258.697736   258.697736   \n",
      "min       3.228000     3.326000     2.996000     3.160000     3.160000   \n",
      "25%      20.309999    20.740000    19.714001    20.129999    20.129999   \n",
      "50%      46.875999    47.570000    45.910000    46.796001    46.796001   \n",
      "75%      68.407997    69.500000    67.185997    68.503998    68.503998   \n",
      "max    1234.410034  1243.489990  1217.000000  1229.910034  1229.910034   \n",
      "\n",
      "             Volume  \n",
      "count  2.973000e+03  \n",
      "mean   3.126188e+07  \n",
      "std    2.791490e+07  \n",
      "min    5.925000e+05  \n",
      "25%    1.316750e+07  \n",
      "50%    2.482100e+07  \n",
      "75%    3.968620e+07  \n",
      "max    3.046940e+08  \n"
     ]
    }
   ],
   "source": [
    "print(dataset.describe())"
   ]
  },
  {
   "cell_type": "code",
   "execution_count": 7,
   "metadata": {},
   "outputs": [
    {
     "data": {
      "text/plain": [
       "Open         0\n",
       "High         0\n",
       "Low          0\n",
       "Close        0\n",
       "Adj Close    0\n",
       "Volume       0\n",
       "dtype: int64"
      ]
     },
     "execution_count": 7,
     "metadata": {},
     "output_type": "execute_result"
    }
   ],
   "source": [
    "dataset.isna().sum()\n"
   ]
  },
  {
   "cell_type": "code",
   "execution_count": 10,
   "metadata": {},
   "outputs": [
    {
     "data": {
      "image/png": "[encoded data removed]",
      "text/plain": [
       "<Figure size 1152x288 with 1 Axes>"
      ]
     },
     "metadata": {
      "needs_background": "light"
     },
     "output_type": "display_data"
    }
   ],
   "source": [
    "tstart = 2010\n",
    "tend = 2021\n",
    "\n",
    "def train_test_plot(dataset, tstart, tend):\n",
    "    dataset.loc[f\"{tstart}\":f\"{tend}\", \"High\"].plot(figsize=(16, 4), legend=True)\n",
    "    dataset.loc[f\"{tend+1}\":, \"High\"].plot(figsize=(16, 4), legend=True)\n",
    "    plt.legend([f\"Train (Before {tend+1})\", f\"Test ({tend+1} and beyond)\"])\n",
    "    plt.title(\"Tesla stock price\")\n",
    "    plt.show()\n",
    "\n",
    "train_test_plot(dataset,tstart,tend)"
   ]
  },
  {
   "cell_type": "code",
   "execution_count": 11,
   "metadata": {},
   "outputs": [],
   "source": [
    "def train_test_split(dataset, tstart, tend):\n",
    "    train = dataset.loc[f\"{tstart}\":f\"{tend}\", \"High\"].values\n",
    "    test = dataset.loc[f\"{tend+1}\":, \"High\"].values\n",
    "    return train, test\n",
    "training_set, test_set = train_test_split(dataset, tstart, tend)"
   ]
  },
  {
   "cell_type": "code",
   "execution_count": 12,
   "metadata": {},
   "outputs": [],
   "source": [
    "sc = MinMaxScaler(feature_range=(0, 1))\n",
    "training_set = training_set.reshape(-1, 1)\n",
    "training_set_scaled = sc.fit_transform(training_set)"
   ]
  },
  {
   "cell_type": "code",
   "execution_count": 13,
   "metadata": {},
   "outputs": [],
   "source": [
    "def split_sequence(sequence, n_steps):\n",
    "    X, y = list(), list()\n",
    "    for i in range(len(sequence)):\n",
    "        end_ix = i + n_steps\n",
    "        if end_ix > len(sequence) - 1:\n",
    "            break\n",
    "        seq_x, seq_y = sequence[i:end_ix], sequence[end_ix]\n",
    "        X.append(seq_x)\n",
    "        y.append(seq_y)\n",
    "    return np.array(X), np.array(y)\n",
    "\n",
    "\n",
    "n_steps = 60\n",
    "features = 1\n",
    "# split into samples\n",
    "X_train, y_train = split_sequence(training_set_scaled, n_steps)"
   ]
  },
  {
   "cell_type": "code",
   "execution_count": 14,
   "metadata": {},
   "outputs": [],
   "source": [
    "# Reshaping X_train for model\n",
    "X_train = X_train.reshape(X_train.shape[0],X_train.shape[1],features)"
   ]
  },
  {
   "cell_type": "code",
   "execution_count": 15,
   "metadata": {},
   "outputs": [
    {
     "name": "stderr",
     "output_type": "stream",
     "text": [
      "2022-04-20 18:49:50.048670: I tensorflow/compiler/jit/xla_cpu_device.cc:41] Not creating XLA devices, tf_xla_enable_xla_devices not set\n",
      "2022-04-20 18:49:50.053032: I tensorflow/core/platform/cpu_feature_guard.cc:142] This TensorFlow binary is optimized with oneAPI Deep Neural Network Library (oneDNN) to use the following CPU instructions in performance-critical operations:  AVX2 FMA\n",
      "To enable them in other operations, rebuild TensorFlow with the appropriate compiler flags.\n"
     ]
    },
    {
     "name": "stdout",
     "output_type": "stream",
     "text": [
      "Model: \"sequential\"\n",
      "_________________________________________________________________\n",
      "Layer (type)                 Output Shape              Param #   \n",
      "=================================================================\n",
      "lstm (LSTM)                  (None, 125)               63500     \n",
      "_________________________________________________________________\n",
      "dense (Dense)                (None, 1)                 126       \n",
      "=================================================================\n",
      "Total params: 63,626\n",
      "Trainable params: 63,626\n",
      "Non-trainable params: 0\n",
      "_________________________________________________________________\n"
     ]
    }
   ],
   "source": [
    "# The LSTM architecture\n",
    "model_lstm = Sequential()\n",
    "model_lstm.add(LSTM(units=125, activation=\"tanh\", input_shape=(n_steps, features)))\n",
    "model_lstm.add(Dense(units=1))\n",
    "# Compiling the model\n",
    "model_lstm.compile(optimizer=\"RMSprop\", loss=\"mse\")\n",
    "\n",
    "model_lstm.summary()"
   ]
  },
  {
   "cell_type": "code",
   "execution_count": 16,
   "metadata": {},
   "outputs": [
    {
     "name": "stderr",
     "output_type": "stream",
     "text": [
      "2022-04-20 18:50:25.763940: I tensorflow/compiler/mlir/mlir_graph_optimization_pass.cc:116] None of the MLIR optimization passes are enabled (registered 2)\n"
     ]
    },
    {
     "name": "stdout",
     "output_type": "stream",
     "text": [
      "Epoch 1/50\n",
      "89/89 [==============================] - 5s 36ms/step - loss: 0.0035\n",
      "Epoch 2/50\n",
      "89/89 [==============================] - 3s 35ms/step - loss: 4.6318e-04\n",
      "Epoch 3/50\n",
      "89/89 [==============================] - 3s 36ms/step - loss: 2.8806e-04\n",
      "Epoch 4/50\n",
      "89/89 [==============================] - 3s 37ms/step - loss: 2.7703e-04\n",
      "Epoch 5/50\n",
      "89/89 [==============================] - 3s 35ms/step - loss: 2.5018e-04\n",
      "Epoch 6/50\n",
      "89/89 [==============================] - 3s 36ms/step - loss: 2.2604e-04\n",
      "Epoch 7/50\n",
      "89/89 [==============================] - 4s 42ms/step - loss: 2.5889e-04\n",
      "Epoch 8/50\n",
      "89/89 [==============================] - 3s 37ms/step - loss: 1.7442e-04\n",
      "Epoch 9/50\n",
      "89/89 [==============================] - 3s 37ms/step - loss: 1.8544e-04\n",
      "Epoch 10/50\n",
      "89/89 [==============================] - 3s 39ms/step - loss: 2.3934e-04\n",
      "Epoch 11/50\n",
      "89/89 [==============================] - 4s 41ms/step - loss: 1.4545e-04\n",
      "Epoch 12/50\n",
      "89/89 [==============================] - 3s 39ms/step - loss: 1.5639e-04\n",
      "Epoch 13/50\n",
      "89/89 [==============================] - 3s 35ms/step - loss: 1.6490e-04\n",
      "Epoch 14/50\n",
      "89/89 [==============================] - 3s 38ms/step - loss: 1.1756e-04\n",
      "Epoch 15/50\n",
      "89/89 [==============================] - 3s 38ms/step - loss: 1.4088e-04\n",
      "Epoch 16/50\n",
      "89/89 [==============================] - 3s 37ms/step - loss: 1.3356e-04\n",
      "Epoch 17/50\n",
      "89/89 [==============================] - 3s 35ms/step - loss: 1.0908e-04\n",
      "Epoch 18/50\n",
      "89/89 [==============================] - 3s 34ms/step - loss: 9.5029e-05\n",
      "Epoch 19/50\n",
      "89/89 [==============================] - 3s 38ms/step - loss: 1.2174e-04\n",
      "Epoch 20/50\n",
      "89/89 [==============================] - 3s 37ms/step - loss: 1.0278e-04\n",
      "Epoch 21/50\n",
      "89/89 [==============================] - 3s 35ms/step - loss: 1.2740e-04\n",
      "Epoch 22/50\n",
      "89/89 [==============================] - 4s 41ms/step - loss: 8.7969e-05\n",
      "Epoch 23/50\n",
      "89/89 [==============================] - 4s 45ms/step - loss: 8.8833e-05\n",
      "Epoch 24/50\n",
      "89/89 [==============================] - 4s 45ms/step - loss: 1.0888e-04\n",
      "Epoch 25/50\n",
      "89/89 [==============================] - 4s 40ms/step - loss: 9.6901e-05\n",
      "Epoch 26/50\n",
      "89/89 [==============================] - 4s 43ms/step - loss: 1.1328e-04\n",
      "Epoch 27/50\n",
      "89/89 [==============================] - 4s 42ms/step - loss: 1.1137e-04\n",
      "Epoch 28/50\n",
      "89/89 [==============================] - 3s 38ms/step - loss: 7.9293e-05\n",
      "Epoch 29/50\n",
      "89/89 [==============================] - 3s 38ms/step - loss: 9.2853e-05\n",
      "Epoch 30/50\n",
      "89/89 [==============================] - 3s 38ms/step - loss: 1.0048e-04\n",
      "Epoch 31/50\n",
      "89/89 [==============================] - 3s 38ms/step - loss: 9.4413e-05\n",
      "Epoch 32/50\n",
      "89/89 [==============================] - 3s 38ms/step - loss: 8.1769e-05\n",
      "Epoch 33/50\n",
      "89/89 [==============================] - 4s 43ms/step - loss: 9.1361e-05\n",
      "Epoch 34/50\n",
      "89/89 [==============================] - 4s 39ms/step - loss: 7.9704e-05\n",
      "Epoch 35/50\n",
      "89/89 [==============================] - 3s 37ms/step - loss: 9.6066e-05\n",
      "Epoch 36/50\n",
      "89/89 [==============================] - 4s 40ms/step - loss: 8.4676e-05\n",
      "Epoch 37/50\n",
      "89/89 [==============================] - 4s 43ms/step - loss: 8.9489e-05\n",
      "Epoch 38/50\n",
      "89/89 [==============================] - 4s 40ms/step - loss: 8.0545e-05\n",
      "Epoch 39/50\n",
      "89/89 [==============================] - 4s 40ms/step - loss: 6.6971e-05\n",
      "Epoch 40/50\n",
      "89/89 [==============================] - 3s 36ms/step - loss: 8.2469e-05\n",
      "Epoch 41/50\n",
      "89/89 [==============================] - 4s 40ms/step - loss: 7.4215e-05\n",
      "Epoch 42/50\n",
      "89/89 [==============================] - 3s 37ms/step - loss: 8.5856e-05\n",
      "Epoch 43/50\n",
      "89/89 [==============================] - 3s 37ms/step - loss: 7.0121e-05\n",
      "Epoch 44/50\n",
      "89/89 [==============================] - 4s 41ms/step - loss: 8.1483e-05\n",
      "Epoch 45/50\n",
      "89/89 [==============================] - 4s 41ms/step - loss: 9.3777e-05\n",
      "Epoch 46/50\n",
      "89/89 [==============================] - 4s 43ms/step - loss: 7.3100e-05\n",
      "Epoch 47/50\n",
      "89/89 [==============================] - 4s 41ms/step - loss: 9.3374e-05\n",
      "Epoch 48/50\n",
      "89/89 [==============================] - 3s 39ms/step - loss: 8.1126e-05\n",
      "Epoch 49/50\n",
      "89/89 [==============================] - 3s 38ms/step - loss: 7.8216e-05\n",
      "Epoch 50/50\n",
      "89/89 [==============================] - 3s 37ms/step - loss: 7.4153e-05\n"
     ]
    },
    {
     "data": {
      "text/plain": [
       "<tensorflow.python.keras.callbacks.History at 0x7fdf8dbca160>"
      ]
     },
     "execution_count": 16,
     "metadata": {},
     "output_type": "execute_result"
    }
   ],
   "source": [
    "model_lstm.fit(X_train, y_train, epochs=50, batch_size=32)\n"
   ]
  },
  {
   "cell_type": "code",
   "execution_count": 17,
   "metadata": {},
   "outputs": [],
   "source": [
    "dataset_total = dataset.loc[:,\"High\"]\n",
    "inputs = dataset_total[len(dataset_total) - len(test_set) - n_steps :].values\n",
    "inputs = inputs.reshape(-1, 1)\n",
    "#scaling\n",
    "inputs = sc.transform(inputs)\n",
    "\n",
    "# Split into samples\n",
    "X_test, y_test = split_sequence(inputs, n_steps)\n",
    "# reshape\n",
    "X_test = X_test.reshape(X_test.shape[0], X_test.shape[1], features)\n",
    "#prediction\n",
    "predicted_stock_price = model_lstm.predict(X_test)\n",
    "#inverse transform the values\n",
    "predicted_stock_price = sc.inverse_transform(predicted_stock_price)"
   ]
  },
  {
   "cell_type": "code",
   "execution_count": 18,
   "metadata": {},
   "outputs": [],
   "source": [
    "def plot_predictions(test, predicted):\n",
    "    plt.plot(test, color=\"gray\", label=\"Real\")\n",
    "    plt.plot(predicted, color=\"red\", label=\"Predicted\")\n",
    "    plt.title(\"MasterCard Stock Price Prediction\")\n",
    "    plt.xlabel(\"Time\")\n",
    "    plt.ylabel(\"MasterCard Stock Price\")\n",
    "    plt.legend()\n",
    "    plt.show()\n",
    "\n",
    "\n",
    "def return_rmse(test, predicted):\n",
    "    rmse = np.sqrt(mean_squared_error(test, predicted))\n",
    "    print(\"The root mean squared error is {:.2f}.\".format(rmse))"
   ]
  },
  {
   "cell_type": "code",
   "execution_count": 19,
   "metadata": {},
   "outputs": [
    {
     "data": {
      "image/png": "[encoded data removed]",
      "text/plain": [
       "<Figure size 432x288 with 1 Axes>"
      ]
     },
     "metadata": {
      "needs_background": "light"
     },
     "output_type": "display_data"
    }
   ],
   "source": [
    "plot_predictions(test_set,predicted_stock_price)"
   ]
  },
  {
   "cell_type": "code",
   "execution_count": 20,
   "metadata": {},
   "outputs": [
    {
     "name": "stdout",
     "output_type": "stream",
     "text": [
      "The root mean squared error is 37.17.\n"
     ]
    }
   ],
   "source": [
    "return_rmse(test_set,predicted_stock_price)\n"
   ]
  },
  {
   "cell_type": "code",
   "execution_count": 21,
   "metadata": {},
   "outputs": [
    {
     "name": "stdout",
     "output_type": "stream",
     "text": [
      "Model: \"sequential_1\"\n",
      "_________________________________________________________________\n",
      "Layer (type)                 Output Shape              Param #   \n",
      "=================================================================\n",
      "gru (GRU)                    (None, 125)               48000     \n",
      "_________________________________________________________________\n",
      "dense_1 (Dense)              (None, 1)                 126       \n",
      "=================================================================\n",
      "Total params: 48,126\n",
      "Trainable params: 48,126\n",
      "Non-trainable params: 0\n",
      "_________________________________________________________________\n"
     ]
    }
   ],
   "source": [
    "model_gru = Sequential()\n",
    "model_gru.add(GRU(units=125, activation=\"tanh\", input_shape=(n_steps, features)))\n",
    "model_gru.add(Dense(units=1))\n",
    "# Compiling the RNN\n",
    "model_gru.compile(optimizer=\"RMSprop\", loss=\"mse\")\n",
    "\n",
    "model_gru.summary()"
   ]
  },
  {
   "cell_type": "code",
   "execution_count": 22,
   "metadata": {},
   "outputs": [
    {
     "name": "stdout",
     "output_type": "stream",
     "text": [
      "Epoch 1/50\n",
      "89/89 [==============================] - 4s 32ms/step - loss: 0.0051\n",
      "Epoch 2/50\n",
      "89/89 [==============================] - 3s 28ms/step - loss: 3.6163e-04\n",
      "Epoch 3/50\n",
      "89/89 [==============================] - 2s 28ms/step - loss: 2.1028e-04\n",
      "Epoch 4/50\n",
      "89/89 [==============================] - 3s 28ms/step - loss: 1.8510e-04\n",
      "Epoch 5/50\n",
      "89/89 [==============================] - 3s 30ms/step - loss: 1.6161e-04\n",
      "Epoch 6/50\n",
      "89/89 [==============================] - 3s 31ms/step - loss: 1.5252e-04\n",
      "Epoch 7/50\n",
      "89/89 [==============================] - 3s 33ms/step - loss: 1.6327e-04\n",
      "Epoch 8/50\n",
      "89/89 [==============================] - 3s 33ms/step - loss: 1.5463e-04\n",
      "Epoch 9/50\n",
      "89/89 [==============================] - 3s 33ms/step - loss: 1.3751e-04\n",
      "Epoch 10/50\n",
      "89/89 [==============================] - 3s 33ms/step - loss: 1.7935e-04\n",
      "Epoch 11/50\n",
      "89/89 [==============================] - 3s 32ms/step - loss: 1.2784e-04\n",
      "Epoch 12/50\n",
      "89/89 [==============================] - 3s 30ms/step - loss: 1.1702e-04\n",
      "Epoch 13/50\n",
      "89/89 [==============================] - 2s 28ms/step - loss: 1.3983e-04\n",
      "Epoch 14/50\n",
      "89/89 [==============================] - 3s 28ms/step - loss: 1.0600e-04\n",
      "Epoch 15/50\n",
      "89/89 [==============================] - 3s 30ms/step - loss: 1.0033e-04\n",
      "Epoch 16/50\n",
      "89/89 [==============================] - 3s 29ms/step - loss: 1.2507e-04\n",
      "Epoch 17/50\n",
      "89/89 [==============================] - 3s 32ms/step - loss: 1.0350e-04\n",
      "Epoch 18/50\n",
      "89/89 [==============================] - 3s 33ms/step - loss: 1.0579e-04\n",
      "Epoch 19/50\n",
      "89/89 [==============================] - 3s 29ms/step - loss: 1.2640e-04\n",
      "Epoch 20/50\n",
      "89/89 [==============================] - 2s 27ms/step - loss: 1.0056e-04\n",
      "Epoch 21/50\n",
      "89/89 [==============================] - 3s 29ms/step - loss: 1.2427e-04\n",
      "Epoch 22/50\n",
      "89/89 [==============================] - 3s 28ms/step - loss: 8.5023e-05\n",
      "Epoch 23/50\n",
      "89/89 [==============================] - 3s 30ms/step - loss: 8.2634e-05\n",
      "Epoch 24/50\n",
      "89/89 [==============================] - 3s 30ms/step - loss: 1.1081e-04\n",
      "Epoch 25/50\n",
      "89/89 [==============================] - 3s 28ms/step - loss: 9.7974e-05\n",
      "Epoch 26/50\n",
      "89/89 [==============================] - 2s 28ms/step - loss: 1.1437e-04\n",
      "Epoch 27/50\n",
      "89/89 [==============================] - 2s 28ms/step - loss: 1.1206e-04\n",
      "Epoch 28/50\n",
      "89/89 [==============================] - 3s 33ms/step - loss: 7.7564e-05\n",
      "Epoch 29/50\n",
      "89/89 [==============================] - 3s 37ms/step - loss: 9.2433e-05\n",
      "Epoch 30/50\n",
      "89/89 [==============================] - 3s 31ms/step - loss: 8.9055e-05\n",
      "Epoch 31/50\n",
      "89/89 [==============================] - 3s 39ms/step - loss: 9.6852e-05\n",
      "Epoch 32/50\n",
      "89/89 [==============================] - 3s 38ms/step - loss: 8.3199e-05\n",
      "Epoch 33/50\n",
      "89/89 [==============================] - 3s 34ms/step - loss: 9.4920e-05\n",
      "Epoch 34/50\n",
      "89/89 [==============================] - 3s 32ms/step - loss: 8.2716e-05\n",
      "Epoch 35/50\n",
      "89/89 [==============================] - 3s 31ms/step - loss: 9.2694e-05\n",
      "Epoch 36/50\n",
      "89/89 [==============================] - 3s 31ms/step - loss: 8.2942e-05\n",
      "Epoch 37/50\n",
      "89/89 [==============================] - 4s 40ms/step - loss: 8.4905e-05\n",
      "Epoch 38/50\n",
      "89/89 [==============================] - 3s 35ms/step - loss: 8.2045e-05\n",
      "Epoch 39/50\n",
      "89/89 [==============================] - 3s 36ms/step - loss: 6.7136e-05\n",
      "Epoch 40/50\n",
      "89/89 [==============================] - 3s 38ms/step - loss: 8.6162e-05\n",
      "Epoch 41/50\n",
      "89/89 [==============================] - 3s 35ms/step - loss: 6.5593e-05\n",
      "Epoch 42/50\n",
      "89/89 [==============================] - 3s 36ms/step - loss: 8.4528e-05\n",
      "Epoch 43/50\n",
      "89/89 [==============================] - 3s 31ms/step - loss: 7.0860e-05\n",
      "Epoch 44/50\n",
      "89/89 [==============================] - 3s 31ms/step - loss: 7.8120e-05\n",
      "Epoch 45/50\n",
      "89/89 [==============================] - 3s 34ms/step - loss: 8.3403e-05\n",
      "Epoch 46/50\n",
      "89/89 [==============================] - 3s 31ms/step - loss: 7.3300e-05\n",
      "Epoch 47/50\n",
      "89/89 [==============================] - 3s 33ms/step - loss: 9.2867e-05\n",
      "Epoch 48/50\n",
      "89/89 [==============================] - 3s 32ms/step - loss: 8.0883e-05\n",
      "Epoch 49/50\n",
      "89/89 [==============================] - 3s 35ms/step - loss: 7.2299e-05\n",
      "Epoch 50/50\n",
      "89/89 [==============================] - 3s 36ms/step - loss: 6.8685e-05\n"
     ]
    },
    {
     "data": {
      "text/plain": [
       "<tensorflow.python.keras.callbacks.History at 0x7fdf8ea15430>"
      ]
     },
     "execution_count": 22,
     "metadata": {},
     "output_type": "execute_result"
    }
   ],
   "source": [
    "model_gru.fit(X_train, y_train, epochs=50, batch_size=32)\n"
   ]
  },
  {
   "cell_type": "code",
   "execution_count": 24,
   "metadata": {},
   "outputs": [
    {
     "data": {
      "image/png": "[encoded data removed]",
      "text/plain": [
       "<Figure size 432x288 with 1 Axes>"
      ]
     },
     "metadata": {
      "needs_background": "light"
     },
     "output_type": "display_data"
    }
   ],
   "source": [
    "GRU_predicted_stock_price = model_gru.predict(X_test)\n",
    "GRU_predicted_stock_price = sc.inverse_transform(GRU_predicted_stock_price)\n",
    "plot_predictions(test_set, GRU_predicted_stock_price)"
   ]
  },
  {
   "cell_type": "code",
   "execution_count": 25,
   "metadata": {},
   "outputs": [
    {
     "name": "stdout",
     "output_type": "stream",
     "text": [
      "The root mean squared error is 35.84.\n"
     ]
    }
   ],
   "source": [
    "return_rmse(test_set,GRU_predicted_stock_price)\n"
   ]
  }
 ],
 "metadata": {
  "interpreter": {
   "hash": "ac2eaa0ea0ebeafcc7822e65e46aa9d4f966f30b695406963e145ea4a91cd4fc"
  },
  "kernelspec": {
   "display_name": "Python ('nodeenv')",
   "language": "python",
   "name": "python3"
  },
  "language_info": {
   "codemirror_mode": {
    "name": "ipython",
    "version": 3
   },
   "file_extension": ".py",
   "mimetype": "text/x-python",
   "name": "python",
   "nbconvert_exporter": "python",
   "pygments_lexer": "ipython3",
   "version": "3.8.12"
  },
  "orig_nbformat": 4
 },
 "nbformat": 4,
 "nbformat_minor": 2
}
