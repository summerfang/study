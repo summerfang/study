{
 "metadata": {
  "language_info": {
   "codemirror_mode": {
    "name": "ipython",
    "version": 3
   },
   "file_extension": ".py",
   "mimetype": "text/x-python",
   "name": "python",
   "nbconvert_exporter": "python",
   "pygments_lexer": "ipython3",
   "version": "3.8.5"
  },
  "orig_nbformat": 2,
  "kernelspec": {
   "name": "python385jvsc74a57bd0b7715454c2ccbe0e2a027b1cff72b853c9de614534ab0ab518c1e586ef9a00c6",
   "display_name": "Python 3.8.5 64-bit ('base': conda)"
  },
  "metadata": {
   "interpreter": {
    "hash": "31f2aee4e71d21fbe5cf8b01ff0e069b9275f58929596ceb00d14d90e3e16cd6"
   }
  }
 },
 "nbformat": 4,
 "nbformat_minor": 2,
 "cells": [
  {
   "cell_type": "code",
   "execution_count": 9,
   "metadata": {},
   "outputs": [
    {
     "output_type": "stream",
     "name": "stdout",
     "text": [
      "gender\nFemale    0.877667\nMale      0.823232\nOther     0.920000\nName: city_development_index, dtype: float64\n"
     ]
    }
   ],
   "source": [
    "import pandas as pd\n",
    "import numpy as np\n",
    "\n",
    "df = pd.read_csv(\"test.csv\", nrows=100)\n",
    "\n",
    "grouped = df.groupby('gender')\n",
    "print(grouped['city_development_index'].agg(np.mean))"
   ]
  },
  {
   "cell_type": "code",
   "execution_count": 10,
   "metadata": {},
   "outputs": [
    {
     "output_type": "stream",
     "name": "stdout",
     "text": [
      "            mean     sum       std\ngender                            \nFemale  0.877667   5.266  0.103695\nMale    0.823232  56.803  0.127891\nOther   0.920000   0.920       NaN\n"
     ]
    }
   ],
   "source": [
    "print(grouped['city_development_index'].agg([np.mean,np.sum,np.std]))"
   ]
  },
  {
   "cell_type": "code",
   "execution_count": 17,
   "metadata": {},
   "outputs": [],
   "source": [
    "# score = lambda x: (x['city_development_index'] - x['city_development_index'].mean()) / x['city_development_index'].std()*10\n",
    "# print(grouped.transform(score))"
   ]
  },
  {
   "cell_type": "code",
   "execution_count": null,
   "metadata": {},
   "outputs": [],
   "source": []
  }
 ]
}