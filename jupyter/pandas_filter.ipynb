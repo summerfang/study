{
 "metadata": {
  "language_info": {
   "codemirror_mode": {
    "name": "ipython",
    "version": 3
   },
   "file_extension": ".py",
   "mimetype": "text/x-python",
   "name": "python",
   "nbconvert_exporter": "python",
   "pygments_lexer": "ipython3",
   "version": "3.8.5"
  },
  "orig_nbformat": 2,
  "kernelspec": {
   "name": "python385jvsc74a57bd0b7715454c2ccbe0e2a027b1cff72b853c9de614534ab0ab518c1e586ef9a00c6",
   "display_name": "Python 3.8.5 64-bit ('base': conda)"
  },
  "metadata": {
   "interpreter": {
    "hash": "aee8b7b246df8f9039afb4144a1f6fd8d2ca17a180786b69acc140d282b71a49"
   }
  }
 },
 "nbformat": 4,
 "nbformat_minor": 2,
 "cells": [
  {
   "cell_type": "code",
   "execution_count": 2,
   "metadata": {},
   "outputs": [
    {
     "output_type": "stream",
     "name": "stdout",
     "text": [
      "      enrollee_id      city  city_development_index  gender  \\\n0           32403   city_41                   0.827    Male   \n1            9858  city_103                   0.920  Female   \n2           31806   city_21                   0.624    Male   \n3           27385   city_13                   0.827    Male   \n4           27724  city_103                   0.920    Male   \n...           ...       ...                     ...     ...   \n2124         1289  city_103                   0.920    Male   \n2125          195  city_136                   0.897    Male   \n2126        31762  city_100                   0.887    Male   \n2127         7873  city_102                   0.804    Male   \n2128        12215  city_102                   0.804    Male   \n\n          relevent_experience enrolled_university education_level  \\\n0     Has relevent experience    Full time course        Graduate   \n1     Has relevent experience       no_enrollment        Graduate   \n2      No relevent experience       no_enrollment     High School   \n3     Has relevent experience       no_enrollment         Masters   \n4     Has relevent experience       no_enrollment        Graduate   \n...                       ...                 ...             ...   \n2124   No relevent experience       no_enrollment        Graduate   \n2125  Has relevent experience       no_enrollment         Masters   \n2126   No relevent experience       no_enrollment  Primary School   \n2127  Has relevent experience    Full time course     High School   \n2128  Has relevent experience       no_enrollment         Masters   \n\n     major_discipline experience company_size   company_type last_new_job  \\\n0                STEM          9          <10            NaN            1   \n1                STEM          5          NaN        Pvt Ltd            1   \n2                 NaN         <1          NaN        Pvt Ltd        never   \n3                STEM         11        10/49        Pvt Ltd            1   \n4                STEM        >20       10000+        Pvt Ltd           >4   \n...               ...        ...          ...            ...          ...   \n2124       Humanities         16          NaN  Public Sector            4   \n2125             STEM         18          NaN            NaN            2   \n2126              NaN          3          NaN        Pvt Ltd        never   \n2127              NaN          7      100-500  Public Sector            1   \n2128             STEM         15       10000+        Pvt Ltd            2   \n\n      training_hours  \n0                 21  \n1                 98  \n2                 15  \n3                 39  \n4                 72  \n...              ...  \n2124              15  \n2125              30  \n2126              18  \n2127              84  \n2128              11  \n\n[2129 rows x 13 columns]\n"
     ]
    }
   ],
   "source": [
    "import pandas as pd\n",
    "import numpy as np\n",
    "\n",
    "test_df = pd.read_csv(\"test.csv\")\n",
    "\n",
    "print(test_df)\n",
    "\n",
    "test_df.filter"
   ]
  },
  {
   "cell_type": "code",
   "execution_count": null,
   "metadata": {},
   "outputs": [],
   "source": []
  }
 ]
}