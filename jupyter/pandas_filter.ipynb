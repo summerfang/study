{
 "metadata": {
  "language_info": {
   "codemirror_mode": {
    "name": "ipython",
    "version": 3
   },
   "file_extension": ".py",
   "mimetype": "text/x-python",
   "name": "python",
   "nbconvert_exporter": "python",
   "pygments_lexer": "ipython3",
   "version": "3.8.5"
  },
  "orig_nbformat": 2,
  "kernelspec": {
   "name": "python385jvsc74a57bd0b7715454c2ccbe0e2a027b1cff72b853c9de614534ab0ab518c1e586ef9a00c6",
   "display_name": "Python 3.8.5 64-bit ('base': conda)"
  },
  "metadata": {
   "interpreter": {
    "hash": "aee8b7b246df8f9039afb4144a1f6fd8d2ca17a180786b69acc140d282b71a49"
   }
  }
 },
 "nbformat": 4,
 "nbformat_minor": 2,
 "cells": [
  {
   "cell_type": "code",
   "execution_count": 9,
   "metadata": {},
   "outputs": [
    {
     "output_type": "execute_result",
     "data": {
      "text/plain": [
       "0        True\n",
       "1        True\n",
       "2       False\n",
       "3        True\n",
       "4        True\n",
       "        ...  \n",
       "2124    False\n",
       "2125     True\n",
       "2126    False\n",
       "2127    False\n",
       "2128     True\n",
       "Name: major_discipline, Length: 2129, dtype: bool"
      ]
     },
     "metadata": {},
     "execution_count": 9
    }
   ],
   "source": [
    "import pandas as pd\n",
    "import numpy as np\n",
    "\n",
    "test_df = pd.read_csv(\"test.csv\")\n",
    "\n",
    "test_df['gender'] == 'Male' \n",
    "\n"
   ]
  },
  {
   "cell_type": "code",
   "execution_count": 10,
   "metadata": {},
   "outputs": [
    {
     "output_type": "execute_result",
     "data": {
      "text/plain": [
       "0        True\n",
       "1        True\n",
       "2       False\n",
       "3        True\n",
       "4        True\n",
       "        ...  \n",
       "2124    False\n",
       "2125     True\n",
       "2126    False\n",
       "2127    False\n",
       "2128     True\n",
       "Name: major_discipline, Length: 2129, dtype: bool"
      ]
     },
     "metadata": {},
     "execution_count": 10
    }
   ],
   "source": [
    "test_df['major_discipline'] == 'STEM'"
   ]
  },
  {
   "cell_type": "code",
   "execution_count": 14,
   "metadata": {},
   "outputs": [
    {
     "output_type": "execute_result",
     "data": {
      "text/plain": [
       "    enrollee_id      city  ...  last_new_job training_hours\n",
       "3         27385   city_13  ...             1             39\n",
       "5           217   city_23  ...             2             12\n",
       "16         7865   city_21  ...             1              4\n",
       "26         9548  city_114  ...            >4             65\n",
       "34        28610   city_16  ...            >4             18\n",
       "39        12835  city_136  ...             1              9\n",
       "40        20178   city_45  ...             1             20\n",
       "45        29242   city_21  ...             1             49\n",
       "47          113   city_16  ...             1             23\n",
       "48        14685  city_114  ...             1             35\n",
       "\n",
       "[10 rows x 13 columns]"
      ],
      "text/html": "<div>\n<style scoped>\n    .dataframe tbody tr th:only-of-type {\n        vertical-align: middle;\n    }\n\n    .dataframe tbody tr th {\n        vertical-align: top;\n    }\n\n    .dataframe thead th {\n        text-align: right;\n    }\n</style>\n<table border=\"1\" class=\"dataframe\">\n  <thead>\n    <tr style=\"text-align: right;\">\n      <th></th>\n      <th>enrollee_id</th>\n      <th>city</th>\n      <th>city_development_index</th>\n      <th>gender</th>\n      <th>relevent_experience</th>\n      <th>enrolled_university</th>\n      <th>education_level</th>\n      <th>major_discipline</th>\n      <th>experience</th>\n      <th>company_size</th>\n      <th>company_type</th>\n      <th>last_new_job</th>\n      <th>training_hours</th>\n    </tr>\n  </thead>\n  <tbody>\n    <tr>\n      <th>3</th>\n      <td>27385</td>\n      <td>city_13</td>\n      <td>0.827</td>\n      <td>Male</td>\n      <td>Has relevent experience</td>\n      <td>no_enrollment</td>\n      <td>Masters</td>\n      <td>STEM</td>\n      <td>11</td>\n      <td>10/49</td>\n      <td>Pvt Ltd</td>\n      <td>1</td>\n      <td>39</td>\n    </tr>\n    <tr>\n      <th>5</th>\n      <td>217</td>\n      <td>city_23</td>\n      <td>0.899</td>\n      <td>Male</td>\n      <td>No relevent experience</td>\n      <td>Part time course</td>\n      <td>Masters</td>\n      <td>STEM</td>\n      <td>10</td>\n      <td>NaN</td>\n      <td>NaN</td>\n      <td>2</td>\n      <td>12</td>\n    </tr>\n    <tr>\n      <th>16</th>\n      <td>7865</td>\n      <td>city_21</td>\n      <td>0.624</td>\n      <td>Male</td>\n      <td>Has relevent experience</td>\n      <td>no_enrollment</td>\n      <td>Masters</td>\n      <td>STEM</td>\n      <td>4</td>\n      <td>100-500</td>\n      <td>Pvt Ltd</td>\n      <td>1</td>\n      <td>4</td>\n    </tr>\n    <tr>\n      <th>26</th>\n      <td>9548</td>\n      <td>city_114</td>\n      <td>0.926</td>\n      <td>Male</td>\n      <td>Has relevent experience</td>\n      <td>no_enrollment</td>\n      <td>Masters</td>\n      <td>STEM</td>\n      <td>&gt;20</td>\n      <td>50-99</td>\n      <td>Pvt Ltd</td>\n      <td>&gt;4</td>\n      <td>65</td>\n    </tr>\n    <tr>\n      <th>34</th>\n      <td>28610</td>\n      <td>city_16</td>\n      <td>0.910</td>\n      <td>Male</td>\n      <td>Has relevent experience</td>\n      <td>no_enrollment</td>\n      <td>Masters</td>\n      <td>STEM</td>\n      <td>&gt;20</td>\n      <td>50-99</td>\n      <td>Pvt Ltd</td>\n      <td>&gt;4</td>\n      <td>18</td>\n    </tr>\n    <tr>\n      <th>39</th>\n      <td>12835</td>\n      <td>city_136</td>\n      <td>0.897</td>\n      <td>Male</td>\n      <td>Has relevent experience</td>\n      <td>no_enrollment</td>\n      <td>Masters</td>\n      <td>STEM</td>\n      <td>&gt;20</td>\n      <td>&lt;10</td>\n      <td>Early Stage Startup</td>\n      <td>1</td>\n      <td>9</td>\n    </tr>\n    <tr>\n      <th>40</th>\n      <td>20178</td>\n      <td>city_45</td>\n      <td>0.890</td>\n      <td>Male</td>\n      <td>Has relevent experience</td>\n      <td>no_enrollment</td>\n      <td>Masters</td>\n      <td>STEM</td>\n      <td>13</td>\n      <td>NaN</td>\n      <td>Public Sector</td>\n      <td>1</td>\n      <td>20</td>\n    </tr>\n    <tr>\n      <th>45</th>\n      <td>29242</td>\n      <td>city_21</td>\n      <td>0.624</td>\n      <td>Male</td>\n      <td>Has relevent experience</td>\n      <td>no_enrollment</td>\n      <td>Masters</td>\n      <td>STEM</td>\n      <td>5</td>\n      <td>100-500</td>\n      <td>Pvt Ltd</td>\n      <td>1</td>\n      <td>49</td>\n    </tr>\n    <tr>\n      <th>47</th>\n      <td>113</td>\n      <td>city_16</td>\n      <td>0.910</td>\n      <td>Male</td>\n      <td>Has relevent experience</td>\n      <td>no_enrollment</td>\n      <td>Masters</td>\n      <td>STEM</td>\n      <td>6</td>\n      <td>1000-4999</td>\n      <td>Pvt Ltd</td>\n      <td>1</td>\n      <td>23</td>\n    </tr>\n    <tr>\n      <th>48</th>\n      <td>14685</td>\n      <td>city_114</td>\n      <td>0.926</td>\n      <td>Male</td>\n      <td>No relevent experience</td>\n      <td>Full time course</td>\n      <td>Masters</td>\n      <td>STEM</td>\n      <td>3</td>\n      <td>10/49</td>\n      <td>Pvt Ltd</td>\n      <td>1</td>\n      <td>35</td>\n    </tr>\n  </tbody>\n</table>\n</div>"
     },
     "metadata": {},
     "execution_count": 14
    }
   ],
   "source": [
    "test_df[(test_df['gender'] == 'Male') & (test_df['major_discipline'] == 'STEM') & (test_df['education_level']=='Masters')].head(5)"
   ]
  },
  {
   "cell_type": "code",
   "execution_count": 16,
   "metadata": {},
   "outputs": [
    {
     "output_type": "execute_result",
     "data": {
      "text/plain": [
       "   enrollee_id      city  ...  last_new_job training_hours\n",
       "0        32403   city_41  ...             1             21\n",
       "2        31806   city_21  ...         never             15\n",
       "3        27385   city_13  ...             1             39\n",
       "4        27724  city_103  ...            >4             72\n",
       "5          217   city_23  ...             2             12\n",
       "\n",
       "[5 rows x 13 columns]"
      ],
      "text/html": "<div>\n<style scoped>\n    .dataframe tbody tr th:only-of-type {\n        vertical-align: middle;\n    }\n\n    .dataframe tbody tr th {\n        vertical-align: top;\n    }\n\n    .dataframe thead th {\n        text-align: right;\n    }\n</style>\n<table border=\"1\" class=\"dataframe\">\n  <thead>\n    <tr style=\"text-align: right;\">\n      <th></th>\n      <th>enrollee_id</th>\n      <th>city</th>\n      <th>city_development_index</th>\n      <th>gender</th>\n      <th>relevent_experience</th>\n      <th>enrolled_university</th>\n      <th>education_level</th>\n      <th>major_discipline</th>\n      <th>experience</th>\n      <th>company_size</th>\n      <th>company_type</th>\n      <th>last_new_job</th>\n      <th>training_hours</th>\n    </tr>\n  </thead>\n  <tbody>\n    <tr>\n      <th>0</th>\n      <td>32403</td>\n      <td>city_41</td>\n      <td>0.827</td>\n      <td>Male</td>\n      <td>Has relevent experience</td>\n      <td>Full time course</td>\n      <td>Graduate</td>\n      <td>STEM</td>\n      <td>9</td>\n      <td>&lt;10</td>\n      <td>NaN</td>\n      <td>1</td>\n      <td>21</td>\n    </tr>\n    <tr>\n      <th>2</th>\n      <td>31806</td>\n      <td>city_21</td>\n      <td>0.624</td>\n      <td>Male</td>\n      <td>No relevent experience</td>\n      <td>no_enrollment</td>\n      <td>High School</td>\n      <td>NaN</td>\n      <td>&lt;1</td>\n      <td>NaN</td>\n      <td>Pvt Ltd</td>\n      <td>never</td>\n      <td>15</td>\n    </tr>\n    <tr>\n      <th>3</th>\n      <td>27385</td>\n      <td>city_13</td>\n      <td>0.827</td>\n      <td>Male</td>\n      <td>Has relevent experience</td>\n      <td>no_enrollment</td>\n      <td>Masters</td>\n      <td>STEM</td>\n      <td>11</td>\n      <td>10/49</td>\n      <td>Pvt Ltd</td>\n      <td>1</td>\n      <td>39</td>\n    </tr>\n    <tr>\n      <th>4</th>\n      <td>27724</td>\n      <td>city_103</td>\n      <td>0.920</td>\n      <td>Male</td>\n      <td>Has relevent experience</td>\n      <td>no_enrollment</td>\n      <td>Graduate</td>\n      <td>STEM</td>\n      <td>&gt;20</td>\n      <td>10000+</td>\n      <td>Pvt Ltd</td>\n      <td>&gt;4</td>\n      <td>72</td>\n    </tr>\n    <tr>\n      <th>5</th>\n      <td>217</td>\n      <td>city_23</td>\n      <td>0.899</td>\n      <td>Male</td>\n      <td>No relevent experience</td>\n      <td>Part time course</td>\n      <td>Masters</td>\n      <td>STEM</td>\n      <td>10</td>\n      <td>NaN</td>\n      <td>NaN</td>\n      <td>2</td>\n      <td>12</td>\n    </tr>\n  </tbody>\n</table>\n</div>"
     },
     "metadata": {},
     "execution_count": 16
    }
   ],
   "source": [
    "test_df[test_df.gender.eq('Male')].head(5)"
   ]
  },
  {
   "cell_type": "code",
   "execution_count": 17,
   "metadata": {},
   "outputs": [
    {
     "output_type": "execute_result",
     "data": {
      "text/plain": [
       "    enrollee_id      city  ...  last_new_job training_hours\n",
       "2         31806   city_21  ...         never             15\n",
       "49        20768   city_90  ...         never             87\n",
       "55        16917  city_103  ...             1             48\n",
       "60        19625   city_97  ...             1             31\n",
       "73        16230  city_103  ...         never             84\n",
       "\n",
       "[5 rows x 13 columns]"
      ],
      "text/html": "<div>\n<style scoped>\n    .dataframe tbody tr th:only-of-type {\n        vertical-align: middle;\n    }\n\n    .dataframe tbody tr th {\n        vertical-align: top;\n    }\n\n    .dataframe thead th {\n        text-align: right;\n    }\n</style>\n<table border=\"1\" class=\"dataframe\">\n  <thead>\n    <tr style=\"text-align: right;\">\n      <th></th>\n      <th>enrollee_id</th>\n      <th>city</th>\n      <th>city_development_index</th>\n      <th>gender</th>\n      <th>relevent_experience</th>\n      <th>enrolled_university</th>\n      <th>education_level</th>\n      <th>major_discipline</th>\n      <th>experience</th>\n      <th>company_size</th>\n      <th>company_type</th>\n      <th>last_new_job</th>\n      <th>training_hours</th>\n    </tr>\n  </thead>\n  <tbody>\n    <tr>\n      <th>2</th>\n      <td>31806</td>\n      <td>city_21</td>\n      <td>0.624</td>\n      <td>Male</td>\n      <td>No relevent experience</td>\n      <td>no_enrollment</td>\n      <td>High School</td>\n      <td>NaN</td>\n      <td>&lt;1</td>\n      <td>NaN</td>\n      <td>Pvt Ltd</td>\n      <td>never</td>\n      <td>15</td>\n    </tr>\n    <tr>\n      <th>49</th>\n      <td>20768</td>\n      <td>city_90</td>\n      <td>0.698</td>\n      <td>Male</td>\n      <td>No relevent experience</td>\n      <td>Full time course</td>\n      <td>High School</td>\n      <td>NaN</td>\n      <td>2</td>\n      <td>NaN</td>\n      <td>NaN</td>\n      <td>never</td>\n      <td>87</td>\n    </tr>\n    <tr>\n      <th>55</th>\n      <td>16917</td>\n      <td>city_103</td>\n      <td>0.920</td>\n      <td>NaN</td>\n      <td>No relevent experience</td>\n      <td>Full time course</td>\n      <td>High School</td>\n      <td>NaN</td>\n      <td>1</td>\n      <td>NaN</td>\n      <td>NaN</td>\n      <td>1</td>\n      <td>48</td>\n    </tr>\n    <tr>\n      <th>60</th>\n      <td>19625</td>\n      <td>city_97</td>\n      <td>0.925</td>\n      <td>Male</td>\n      <td>Has relevent experience</td>\n      <td>no_enrollment</td>\n      <td>High School</td>\n      <td>NaN</td>\n      <td>7</td>\n      <td>50-99</td>\n      <td>Pvt Ltd</td>\n      <td>1</td>\n      <td>31</td>\n    </tr>\n    <tr>\n      <th>73</th>\n      <td>16230</td>\n      <td>city_103</td>\n      <td>0.920</td>\n      <td>NaN</td>\n      <td>No relevent experience</td>\n      <td>Full time course</td>\n      <td>High School</td>\n      <td>NaN</td>\n      <td>1</td>\n      <td>NaN</td>\n      <td>NaN</td>\n      <td>never</td>\n      <td>84</td>\n    </tr>\n  </tbody>\n</table>\n</div>"
     },
     "metadata": {},
     "execution_count": 17
    }
   ],
   "source": [
    "test_df[test_df.education_level=='High School'].head(5)"
   ]
  },
  {
   "cell_type": "code",
   "execution_count": null,
   "metadata": {},
   "outputs": [],
   "source": [
    "test_df[test_df.education_level]"
   ]
  }
 ]
}