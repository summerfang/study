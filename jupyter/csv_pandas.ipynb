import pandas as pd
import numpy as np

df = pd.read_csv('test.csv', index_col="city", nrows=10)
print(df)

df1 = pd.read_csv('test.csv', usecols=[1,2,3], nrows=10)
print(df1)

df2 = pd.read_csv('test.csv', usecols=['city'], nrows=10)
print(df2)

f = lambda x : int(x) + 1
df3 = pd.read_csv("test.csv", converters={"training_hours":f}, nrows=10)
print(df3)
print("----------------------------------------")

test_df = pd.read_csv('test.csv')
print(test_df.groupby('gender').groups)
print("----------------------------------------")

print(test_df.groupby(['city','gender']).groups)
print("----------------------------------------")

grouped = test_df.groupby('city')

for name, group in grouped:
    print(name)
    print(group)
    print("----------------------------------------")

grouped2 = test_df.groupby(['city','gender'])

for x in grouped2:
    print(x)
    print("!!!!!!!!!!!!!!!!!!!!!!!!!!!!\n")

print("******************************************")
print(grouped.agg(np.mean))

grouped3 = test_df.groupby('gender')
print(grouped3.groups)

#print(grouped3.transform(score))