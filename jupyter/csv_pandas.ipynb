{
 "cells": [
  {
   "cell_type": "code",
   "execution_count": null,
   "metadata": {
    "tags": [
     "outputPrepend"
    ]
   },
   "outputs": [],
   "source": [
    "import pandas as pd\n",
    "import numpy as np\n",
    "\n",
    "df = pd.read_csv('test.csv', index_col=\"city\", nrows=10)\n",
    "print(df)\n",
    "\n",
    "#print(grouped3.transform(score))"
   ]
  },
  {
   "cell_type": "code",
   "execution_count": null,
   "metadata": {
    "tags": []
   },
   "outputs": [],
   "source": [
    "df1 = pd.read_csv('test.csv', usecols=[1,2,3], nrows=10)\n",
    "print(df1)"
   ]
  },
  {
   "cell_type": "code",
   "execution_count": null,
   "metadata": {},
   "outputs": [],
   "source": [
    "df2 = pd.read_csv('test.csv', usecols=['city'], nrows=10)\n",
    "print(df2)"
   ]
  },
  {
   "cell_type": "code",
   "execution_count": null,
   "metadata": {},
   "outputs": [],
   "source": [
    "f = lambda x : int(x) + 1\n",
    "df3 = pd.read_csv(\"test.csv\", converters={\"training_hours\":f}, nrows=10)\n",
    "print(df3)\n",
    "print(\"----------------------------------------\")"
   ]
  },
  {
   "cell_type": "code",
   "execution_count": null,
   "metadata": {},
   "outputs": [],
   "source": [
    "test_df = pd.read_csv('test.csv')\n",
    "group_by_gender = test_df.groupby('gender').groups\n",
    "print(group_by_gender)\n",
    "print(\"----------------------------------------\")\n"
   ]
  },
  {
   "cell_type": "code",
   "execution_count": null,
   "metadata": {},
   "outputs": [],
   "source": [
    "for x in group_by_gender:\n",
    "    print(x)"
   ]
  },
  {
   "cell_type": "code",
   "execution_count": null,
   "metadata": {},
   "outputs": [],
   "source": [
    "group_by_cg = test_df.groupby(['city','gender']).groups\n",
    "print(group_by_cg)\n",
    "print(\"----------------------------------------\")"
   ]
  },
  {
   "cell_type": "code",
   "execution_count": null,
   "metadata": {},
   "outputs": [],
   "source": [
    "for c, g in group_by_cg:\n",
    "    print(c, g)"
   ]
  },
  {
   "cell_type": "code",
   "execution_count": null,
   "metadata": {},
   "outputs": [],
   "source": [
    "for cg in group_by_cg:\n",
    "    print(cg)"
   ]
  },
  {
   "cell_type": "code",
   "execution_count": null,
   "metadata": {},
   "outputs": [],
   "source": [
    "grouped = test_df.groupby('city')\n",
    "print(grouped.groups)"
   ]
  },
  {
   "cell_type": "code",
   "execution_count": null,
   "metadata": {},
   "outputs": [],
   "source": [
    "\n",
    "for name, group in grouped:\n",
    "    print(name)\n",
    "    print(group)\n",
    "    print(\"----------------------------------------\")\n",
    "\n",
    "print(\"******************************************\")\n",
    "print(grouped.agg(np.mean))"
   ]
  },
  {
   "cell_type": "code",
   "execution_count": null,
   "metadata": {},
   "outputs": [],
   "source": [
    "for name, enrollee_id in grouped:\n",
    "    print(name)\n",
    "    print(enrollee_id)"
   ]
  },
  {
   "cell_type": "code",
   "execution_count": null,
   "metadata": {},
   "outputs": [],
   "source": [
    "\n",
    "test_df = pd.read_csv('test.csv')\n",
    "group_ce = test_df.groupby(['city'])['enrollee_id'].count()\n",
    "print(group_ce)"
   ]
  },
  {
   "cell_type": "code",
   "execution_count": null,
   "metadata": {},
   "outputs": [],
   "source": [
    "test_df = pd.read_csv('test.csv')\n",
    "group_ce = test_df.groupby(['city'])\n",
    "group_ce.agg('count')"
   ]
  },
  {
   "cell_type": "code",
   "execution_count": null,
   "metadata": {},
   "outputs": [],
   "source": [
    "test_df = pd.read_csv('test.csv')\n",
    "group_ce = test_df.groupby(['city']).count()\n",
    "print(group_ce)\n"
   ]
  },
  {
   "cell_type": "code",
   "execution_count": null,
   "metadata": {},
   "outputs": [],
   "source": [
    "group_cs = test_df.groupby(['city']).size()\n",
    "print(group_cs)"
   ]
  },
  {
   "cell_type": "code",
   "execution_count": null,
   "metadata": {},
   "outputs": [],
   "source": [
    "grouped3 = test_df.groupby('gender')\n",
    "print(grouped3.agg('size'))"
   ]
  },
  {
   "cell_type": "code",
   "execution_count": null,
   "metadata": {},
   "outputs": [],
   "source": [
    "print(grouped3.agg('count'))\n"
   ]
  },
  {
   "cell_type": "code",
   "execution_count": 78,
   "metadata": {},
   "outputs": [
    {
     "name": "stdout",
     "output_type": "stream",
     "text": [
      "Female\n",
      "      enrollee_id      city  city_development_index  gender  \\\n",
      "1            9858  city_103                   0.920  Female   \n",
      "7           27302  city_160                   0.920  Female   \n",
      "25          19139  city_103                   0.920  Female   \n",
      "41          25855  city_103                   0.920  Female   \n",
      "64           2094   city_64                   0.666  Female   \n",
      "...           ...       ...                     ...     ...   \n",
      "2039        26950  city_103                   0.920  Female   \n",
      "2047        13292  city_103                   0.920  Female   \n",
      "2052        29304   city_19                   0.682  Female   \n",
      "2078          634  city_160                   0.920  Female   \n",
      "2123        21339   city_21                   0.624  Female   \n",
      "\n",
      "          relevent_experience enrolled_university education_level  \\\n",
      "1     Has relevent experience       no_enrollment        Graduate   \n",
      "7     Has relevent experience       no_enrollment        Graduate   \n",
      "25    Has relevent experience    Part time course        Graduate   \n",
      "41    Has relevent experience       no_enrollment        Graduate   \n",
      "64    Has relevent experience       no_enrollment        Graduate   \n",
      "...                       ...                 ...             ...   \n",
      "2039  Has relevent experience       no_enrollment        Graduate   \n",
      "2047  Has relevent experience    Full time course        Graduate   \n",
      "2052  Has relevent experience       no_enrollment        Graduate   \n",
      "2078   No relevent experience    Part time course     High School   \n",
      "2123   No relevent experience    Full time course     High School   \n",
      "\n",
      "     major_discipline experience company_size   company_type last_new_job  \\\n",
      "1                STEM          5          NaN        Pvt Ltd            1   \n",
      "7                STEM        >20          NaN            NaN           >4   \n",
      "25               STEM         15          NaN  Public Sector           >4   \n",
      "41               Arts          4        50-99        Pvt Ltd            1   \n",
      "64               STEM         18      100-500        Pvt Ltd           >4   \n",
      "...               ...        ...          ...            ...          ...   \n",
      "2039             STEM         11          NaN            NaN            2   \n",
      "2047             STEM          3          NaN            NaN            1   \n",
      "2052             STEM         12      100-500        Pvt Ltd            1   \n",
      "2078              NaN          1       10000+        Pvt Ltd            1   \n",
      "2123              NaN          3          NaN            NaN        never   \n",
      "\n",
      "      training_hours  \n",
      "1                 98  \n",
      "7                 81  \n",
      "25                48  \n",
      "41                20  \n",
      "64                43  \n",
      "...              ...  \n",
      "2039              16  \n",
      "2047              46  \n",
      "2052              45  \n",
      "2078              57  \n",
      "2123              56  \n",
      "\n",
      "[137 rows x 13 columns]\n",
      "Male\n",
      "      enrollee_id      city  city_development_index gender  \\\n",
      "0           32403   city_41                   0.827   Male   \n",
      "2           31806   city_21                   0.624   Male   \n",
      "3           27385   city_13                   0.827   Male   \n",
      "4           27724  city_103                   0.920   Male   \n",
      "5             217   city_23                   0.899   Male   \n",
      "...           ...       ...                     ...    ...   \n",
      "2124         1289  city_103                   0.920   Male   \n",
      "2125          195  city_136                   0.897   Male   \n",
      "2126        31762  city_100                   0.887   Male   \n",
      "2127         7873  city_102                   0.804   Male   \n",
      "2128        12215  city_102                   0.804   Male   \n",
      "\n",
      "          relevent_experience enrolled_university education_level  \\\n",
      "0     Has relevent experience    Full time course        Graduate   \n",
      "2      No relevent experience       no_enrollment     High School   \n",
      "3     Has relevent experience       no_enrollment         Masters   \n",
      "4     Has relevent experience       no_enrollment        Graduate   \n",
      "5      No relevent experience    Part time course         Masters   \n",
      "...                       ...                 ...             ...   \n",
      "2124   No relevent experience       no_enrollment        Graduate   \n",
      "2125  Has relevent experience       no_enrollment         Masters   \n",
      "2126   No relevent experience       no_enrollment  Primary School   \n",
      "2127  Has relevent experience    Full time course     High School   \n",
      "2128  Has relevent experience       no_enrollment         Masters   \n",
      "\n",
      "     major_discipline experience company_size   company_type last_new_job  \\\n",
      "0                STEM          9          <10            NaN            1   \n",
      "2                 NaN         <1          NaN        Pvt Ltd        never   \n",
      "3                STEM         11        10/49        Pvt Ltd            1   \n",
      "4                STEM        >20       10000+        Pvt Ltd           >4   \n",
      "5                STEM         10          NaN            NaN            2   \n",
      "...               ...        ...          ...            ...          ...   \n",
      "2124       Humanities         16          NaN  Public Sector            4   \n",
      "2125             STEM         18          NaN            NaN            2   \n",
      "2126              NaN          3          NaN        Pvt Ltd        never   \n",
      "2127              NaN          7      100-500  Public Sector            1   \n",
      "2128             STEM         15       10000+        Pvt Ltd            2   \n",
      "\n",
      "      training_hours  \n",
      "0                 21  \n",
      "2                 15  \n",
      "3                 39  \n",
      "4                 72  \n",
      "5                 12  \n",
      "...              ...  \n",
      "2124              15  \n",
      "2125              30  \n",
      "2126              18  \n",
      "2127              84  \n",
      "2128              11  \n",
      "\n",
      "[1460 rows x 13 columns]\n",
      "Other\n",
      "      enrollee_id      city  city_development_index gender  \\\n",
      "59           1361  city_103                   0.920  Other   \n",
      "247          5605   city_76                   0.698  Other   \n",
      "256          9047  city_103                   0.920  Other   \n",
      "353         20910   city_71                   0.884  Other   \n",
      "437         28251  city_165                   0.903  Other   \n",
      "454          1622   city_64                   0.666  Other   \n",
      "698         22497   city_26                   0.698  Other   \n",
      "711         17504  city_160                   0.920  Other   \n",
      "863           146  city_103                   0.920  Other   \n",
      "1197        30639  city_160                   0.920  Other   \n",
      "1224        25737  city_114                   0.926  Other   \n",
      "1295         4934  city_160                   0.920  Other   \n",
      "1315         9209  city_121                   0.781  Other   \n",
      "1361        23562   city_53                   0.740  Other   \n",
      "1422        28383  city_150                   0.698  Other   \n",
      "1519        15158   city_16                   0.910  Other   \n",
      "1636        27425   city_75                   0.939  Other   \n",
      "1685         4063   city_16                   0.910  Other   \n",
      "1732        26576  city_103                   0.920  Other   \n",
      "1823         7148  city_160                   0.920  Other   \n",
      "2021         9345   city_16                   0.910  Other   \n",
      "2029        11404  city_160                   0.920  Other   \n",
      "2043          545  city_162                   0.767  Other   \n",
      "2111        21887   city_16                   0.910  Other   \n",
      "\n",
      "          relevent_experience enrolled_university education_level  \\\n",
      "59    Has relevent experience    Full time course        Graduate   \n",
      "247   Has relevent experience       no_enrollment        Graduate   \n",
      "256   Has relevent experience       no_enrollment        Graduate   \n",
      "353    No relevent experience    Full time course        Graduate   \n",
      "437   Has relevent experience       no_enrollment        Graduate   \n",
      "454    No relevent experience    Full time course        Graduate   \n",
      "698   Has relevent experience    Part time course     High School   \n",
      "711    No relevent experience       no_enrollment        Graduate   \n",
      "863   Has relevent experience       no_enrollment        Graduate   \n",
      "1197  Has relevent experience    Part time course        Graduate   \n",
      "1224   No relevent experience    Full time course     High School   \n",
      "1295  Has relevent experience       no_enrollment        Graduate   \n",
      "1315  Has relevent experience       no_enrollment        Graduate   \n",
      "1361   No relevent experience    Part time course     High School   \n",
      "1422   No relevent experience    Full time course             NaN   \n",
      "1519  Has relevent experience       no_enrollment        Graduate   \n",
      "1636  Has relevent experience       no_enrollment        Graduate   \n",
      "1685   No relevent experience       no_enrollment         Masters   \n",
      "1732   No relevent experience       no_enrollment        Graduate   \n",
      "1823   No relevent experience       no_enrollment        Graduate   \n",
      "2021  Has relevent experience       no_enrollment     High School   \n",
      "2029  Has relevent experience    Part time course        Graduate   \n",
      "2043   No relevent experience       no_enrollment  Primary School   \n",
      "2111   No relevent experience       no_enrollment        Graduate   \n",
      "\n",
      "     major_discipline experience company_size    company_type last_new_job  \\\n",
      "59               STEM          5          NaN             NaN            1   \n",
      "247              STEM          9       10000+   Public Sector            3   \n",
      "256              STEM        >20          NaN             NaN           >4   \n",
      "353              STEM          2          NaN             NaN            1   \n",
      "437        Humanities          3          <10         Pvt Ltd            1   \n",
      "454              STEM          9          NaN         Pvt Ltd        never   \n",
      "698               NaN          5      100-500             NaN            1   \n",
      "711              STEM         <1          NaN             NaN        never   \n",
      "863              STEM          9        50-99         Pvt Ltd            2   \n",
      "1197       Humanities          8        50-99             NGO            1   \n",
      "1224              NaN          5      100-500   Public Sector            1   \n",
      "1295             STEM         11      100-500             NGO            1   \n",
      "1315             STEM         <1        50-99  Funded Startup            1   \n",
      "1361              NaN          2        50-99             NaN            1   \n",
      "1422              NaN        >20          NaN             NaN        never   \n",
      "1519       Humanities          5    1000-4999         Pvt Ltd           >4   \n",
      "1636             STEM         16          NaN             NaN        never   \n",
      "1685             STEM        >20      500-999           Other           >4   \n",
      "1732             STEM          4      500-999         Pvt Ltd            3   \n",
      "1823             STEM        >20       10000+   Public Sector           >4   \n",
      "2021              NaN          8        50-99         Pvt Ltd            1   \n",
      "2029             STEM          5          <10             NaN            2   \n",
      "2043              NaN          6          NaN             NaN        never   \n",
      "2111         No Major          6          NaN             NaN            1   \n",
      "\n",
      "      training_hours  \n",
      "59               132  \n",
      "247              194  \n",
      "256              174  \n",
      "353               68  \n",
      "437               33  \n",
      "454               16  \n",
      "698               41  \n",
      "711                3  \n",
      "863                4  \n",
      "1197             306  \n",
      "1224              15  \n",
      "1295             113  \n",
      "1315              62  \n",
      "1361               4  \n",
      "1422              97  \n",
      "1519             134  \n",
      "1636              34  \n",
      "1685             148  \n",
      "1732             122  \n",
      "1823              30  \n",
      "2021              18  \n",
      "2029              84  \n",
      "2043              26  \n",
      "2111              78  \n",
      "         amin   amax\n",
      "gender              \n",
      "Female  0.527  0.939\n",
      "Male    0.448  0.949\n",
      "Other   0.666  0.939\n"
     ]
    }
   ],
   "source": [
    "grouped3 = test_df.groupby('gender')\n",
    "for x, group in grouped3:\n",
    "    print(x)\n",
    "    print(group)\n",
    "\n",
    "print(grouped3['city_development_index'].aggregate([np.min, np.max]))"
   ]
  }
 ],
 "metadata": {
  "kernelspec": {
   "display_name": "Python 3 (ipykernel)",
   "language": "python",
   "name": "python3"
  },
  "language_info": {
   "codemirror_mode": {
    "name": "ipython",
    "version": 3
   },
   "file_extension": ".py",
   "mimetype": "text/x-python",
   "name": "python",
   "nbconvert_exporter": "python",
   "pygments_lexer": "ipython3",
   "version": "3.9.6"
  }
 },
 "nbformat": 4,
 "nbformat_minor": 4
}
