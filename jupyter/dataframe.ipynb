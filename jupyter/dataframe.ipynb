{
 "cells": [
  {
   "cell_type": "code",
   "execution_count": 5,
   "metadata": {},
   "outputs": [
    {
     "name": "stdout",
     "output_type": "stream",
     "text": [
      "    enrollee_id      city  city_development_index  gender  \\\n",
      "0         32403   city_41                   0.827    Male   \n",
      "1          9858  city_103                   0.920  Female   \n",
      "6         21465   city_21                   0.624     NaN   \n",
      "59         1361  city_103                   0.920   Other   \n",
      "\n",
      "        relevent_experience enrolled_university education_level  \\\n",
      "0   Has relevent experience    Full time course        Graduate   \n",
      "1   Has relevent experience       no_enrollment        Graduate   \n",
      "6   Has relevent experience       no_enrollment        Graduate   \n",
      "59  Has relevent experience    Full time course        Graduate   \n",
      "\n",
      "   major_discipline experience company_size company_type last_new_job  \\\n",
      "0              STEM          9          <10          NaN            1   \n",
      "1              STEM          5          NaN      Pvt Ltd            1   \n",
      "6              STEM         <1      100-500      Pvt Ltd            1   \n",
      "59             STEM          5          NaN          NaN            1   \n",
      "\n",
      "    training_hours  \n",
      "0               21  \n",
      "1               98  \n",
      "6               11  \n",
      "59             132  \n"
     ]
    }
   ],
   "source": [
    "import pandas as pd\n",
    "\n",
    "#score_dict = {\"name\":[\"John\",\"Henry\",\"James\",\"Mary\"], \"Score\":[90,88,76,99]}\n",
    "\n",
    "# print(score_dict)\n",
    "\n",
    "# print(\"-------------------\")\n",
    "# score_df = pd.DataFrame(score_dict)\n",
    "\n",
    "# print(score_df)\n",
    "\n",
    "test = pd.read_csv('./test.csv')\n",
    "print(test.drop_duplicates(subset=['gender']))\n"
   ]
  }
 ],
 "metadata": {
  "interpreter": {
   "hash": "4dfbe5c73270b387ef522b74c69f79ee852b757b3d248966ea86475aa54b371c"
  },
  "kernelspec": {
   "display_name": "Python 3.8.5 64-bit ('base': conda)",
   "name": "python3"
  },
  "language_info": {
   "codemirror_mode": {
    "name": "ipython",
    "version": 3
   },
   "file_extension": ".py",
   "mimetype": "text/x-python",
   "name": "python",
   "nbconvert_exporter": "python",
   "pygments_lexer": "ipython3",
   "version": "3.8.5"
  },
  "orig_nbformat": 2
 },
 "nbformat": 4,
 "nbformat_minor": 2
}
