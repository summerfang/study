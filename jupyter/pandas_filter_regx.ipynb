{
 "metadata": {
  "language_info": {
   "codemirror_mode": {
    "name": "ipython",
    "version": 3
   },
   "file_extension": ".py",
   "mimetype": "text/x-python",
   "name": "python",
   "nbconvert_exporter": "python",
   "pygments_lexer": "ipython3",
   "version": "3.8.5"
  },
  "orig_nbformat": 2,
  "kernelspec": {
   "name": "python385jvsc74a57bd0b7715454c2ccbe0e2a027b1cff72b853c9de614534ab0ab518c1e586ef9a00c6",
   "display_name": "Python 3.8.5 64-bit ('base': conda)"
  }
 },
 "nbformat": 4,
 "nbformat_minor": 2,
 "cells": [
  {
   "cell_type": "code",
   "execution_count": 12,
   "metadata": {},
   "outputs": [
    {
     "output_type": "stream",
     "name": "stdout",
     "text": [
      "      enrollee_id      city  ...  training_hours     name\n0           32403   city_41  ...              21   city41\n1            9858  city_103  ...              98  city103\n2           31806   city_21  ...              15   city21\n3           27385   city_13  ...              39   city13\n4           27724  city_103  ...              72  city103\n...           ...       ...  ...             ...      ...\n2124         1289  city_103  ...              15  city103\n2125          195  city_136  ...              30  city136\n2126        31762  city_100  ...              18  city100\n2127         7873  city_102  ...              84  city102\n2128        12215  city_102  ...              11  city102\n\n[2129 rows x 14 columns]\n['city_41', 'city_103', 'city_21', 'city_13', 'city_23', 'city_160', 'city_173', 'city_90', 'city_46', 'city_98', 'city_118', 'city_114', 'city_134', 'city_73', 'city_116', 'city_16', 'city_165', 'city_61', 'city_136', 'city_45', 'city_104', 'city_28', 'city_149', 'city_105', 'city_76', 'city_83', 'city_97', 'city_64', 'city_31', 'city_19', 'city_11', 'city_143', 'city_100', 'city_67', 'city_75', 'city_127', 'city_101', 'city_139', 'city_27', 'city_71', 'city_99', 'city_70', 'city_69', 'city_44', 'city_150', 'city_74', 'city_176', 'city_155', 'city_167', 'city_30', 'city_89', 'city_57', 'city_162', 'city_36', 'city_107', 'city_128', 'city_39', 'city_102', 'city_65', 'city_10', 'city_40', 'city_152', 'city_123', 'city_179', 'city_50', 'city_115', 'city_77', 'city_159', 'city_80', 'city_72', 'city_171', 'city_158', 'city_138', 'city_142', 'city_25', 'city_14', 'city_33', 'city_79', 'city_91', 'city_53', 'city_175', 'city_9', 'city_26', 'city_1', 'city_54', 'city_24', 'city_48', 'city_126', 'city_82', 'city_141', 'city_43', 'city_106', 'city_133', 'city_93', 'city_121', 'city_2', 'city_37', 'city_20', 'city_94', 'city_12', 'city_42', 'city_117', 'city_144', 'city_157', 'city_145', 'city_180', 'city_84', 'city_78']\n"
     ]
    }
   ],
   "source": [
    "import pandas as pd\n",
    "import re\n",
    "\n",
    "test_df = pd.read_csv(\"test.csv\")\n",
    "test_df[(~test_df['education_level'].isnull()) & (test_df['education_level'].str.match(r'\\w+ \\w+'))]\n",
    "print(test_df.assign(name=lambda x: x.city.str.replace(\"_\",\"\")))\n",
    "print(test_df.city.unique().tolist())\n"
   ]
  },
  {
   "cell_type": "code",
   "execution_count": null,
   "metadata": {},
   "outputs": [],
   "source": []
  }
 ]
}