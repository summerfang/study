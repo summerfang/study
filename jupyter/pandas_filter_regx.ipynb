{
 "metadata": {
  "language_info": {
   "codemirror_mode": {
    "name": "ipython",
    "version": 3
   },
   "file_extension": ".py",
   "mimetype": "text/x-python",
   "name": "python",
   "nbconvert_exporter": "python",
   "pygments_lexer": "ipython3",
   "version": "3.8.5"
  },
  "orig_nbformat": 2,
  "kernelspec": {
   "name": "python385jvsc74a57bd0b7715454c2ccbe0e2a027b1cff72b853c9de614534ab0ab518c1e586ef9a00c6",
   "display_name": "Python 3.8.5 64-bit ('base': conda)"
  }
 },
 "nbformat": 4,
 "nbformat_minor": 2,
 "cells": [
  {
   "cell_type": "code",
   "execution_count": 21,
   "metadata": {},
   "outputs": [
    {
     "output_type": "execute_result",
     "data": {
      "text/plain": [
       "      enrollee_id      city  ...  last_new_job training_hours\n",
       "2           31806   city_21  ...         never             15\n",
       "49          20768   city_90  ...         never             87\n",
       "55          16917  city_103  ...             1             48\n",
       "60          19625   city_97  ...             1             31\n",
       "73          16230  city_103  ...         never             84\n",
       "...           ...       ...  ...           ...            ...\n",
       "2119         8905   city_70  ...         never             55\n",
       "2120         9772  city_114  ...         never             32\n",
       "2123        21339   city_21  ...         never             56\n",
       "2126        31762  city_100  ...         never             18\n",
       "2127         7873  city_102  ...             1             84\n",
       "\n",
       "[258 rows x 13 columns]"
      ],
      "text/html": "<div>\n<style scoped>\n    .dataframe tbody tr th:only-of-type {\n        vertical-align: middle;\n    }\n\n    .dataframe tbody tr th {\n        vertical-align: top;\n    }\n\n    .dataframe thead th {\n        text-align: right;\n    }\n</style>\n<table border=\"1\" class=\"dataframe\">\n  <thead>\n    <tr style=\"text-align: right;\">\n      <th></th>\n      <th>enrollee_id</th>\n      <th>city</th>\n      <th>city_development_index</th>\n      <th>gender</th>\n      <th>relevent_experience</th>\n      <th>enrolled_university</th>\n      <th>education_level</th>\n      <th>major_discipline</th>\n      <th>experience</th>\n      <th>company_size</th>\n      <th>company_type</th>\n      <th>last_new_job</th>\n      <th>training_hours</th>\n    </tr>\n  </thead>\n  <tbody>\n    <tr>\n      <th>2</th>\n      <td>31806</td>\n      <td>city_21</td>\n      <td>0.624</td>\n      <td>Male</td>\n      <td>No relevent experience</td>\n      <td>no_enrollment</td>\n      <td>High School</td>\n      <td>NaN</td>\n      <td>&lt;1</td>\n      <td>NaN</td>\n      <td>Pvt Ltd</td>\n      <td>never</td>\n      <td>15</td>\n    </tr>\n    <tr>\n      <th>49</th>\n      <td>20768</td>\n      <td>city_90</td>\n      <td>0.698</td>\n      <td>Male</td>\n      <td>No relevent experience</td>\n      <td>Full time course</td>\n      <td>High School</td>\n      <td>NaN</td>\n      <td>2</td>\n      <td>NaN</td>\n      <td>NaN</td>\n      <td>never</td>\n      <td>87</td>\n    </tr>\n    <tr>\n      <th>55</th>\n      <td>16917</td>\n      <td>city_103</td>\n      <td>0.920</td>\n      <td>NaN</td>\n      <td>No relevent experience</td>\n      <td>Full time course</td>\n      <td>High School</td>\n      <td>NaN</td>\n      <td>1</td>\n      <td>NaN</td>\n      <td>NaN</td>\n      <td>1</td>\n      <td>48</td>\n    </tr>\n    <tr>\n      <th>60</th>\n      <td>19625</td>\n      <td>city_97</td>\n      <td>0.925</td>\n      <td>Male</td>\n      <td>Has relevent experience</td>\n      <td>no_enrollment</td>\n      <td>High School</td>\n      <td>NaN</td>\n      <td>7</td>\n      <td>50-99</td>\n      <td>Pvt Ltd</td>\n      <td>1</td>\n      <td>31</td>\n    </tr>\n    <tr>\n      <th>73</th>\n      <td>16230</td>\n      <td>city_103</td>\n      <td>0.920</td>\n      <td>NaN</td>\n      <td>No relevent experience</td>\n      <td>Full time course</td>\n      <td>High School</td>\n      <td>NaN</td>\n      <td>1</td>\n      <td>NaN</td>\n      <td>NaN</td>\n      <td>never</td>\n      <td>84</td>\n    </tr>\n    <tr>\n      <th>...</th>\n      <td>...</td>\n      <td>...</td>\n      <td>...</td>\n      <td>...</td>\n      <td>...</td>\n      <td>...</td>\n      <td>...</td>\n      <td>...</td>\n      <td>...</td>\n      <td>...</td>\n      <td>...</td>\n      <td>...</td>\n      <td>...</td>\n    </tr>\n    <tr>\n      <th>2119</th>\n      <td>8905</td>\n      <td>city_70</td>\n      <td>0.698</td>\n      <td>NaN</td>\n      <td>No relevent experience</td>\n      <td>Full time course</td>\n      <td>High School</td>\n      <td>NaN</td>\n      <td>8</td>\n      <td>NaN</td>\n      <td>NaN</td>\n      <td>never</td>\n      <td>55</td>\n    </tr>\n    <tr>\n      <th>2120</th>\n      <td>9772</td>\n      <td>city_114</td>\n      <td>0.926</td>\n      <td>Male</td>\n      <td>No relevent experience</td>\n      <td>no_enrollment</td>\n      <td>High School</td>\n      <td>NaN</td>\n      <td>5</td>\n      <td>NaN</td>\n      <td>NaN</td>\n      <td>never</td>\n      <td>32</td>\n    </tr>\n    <tr>\n      <th>2123</th>\n      <td>21339</td>\n      <td>city_21</td>\n      <td>0.624</td>\n      <td>Female</td>\n      <td>No relevent experience</td>\n      <td>Full time course</td>\n      <td>High School</td>\n      <td>NaN</td>\n      <td>3</td>\n      <td>NaN</td>\n      <td>NaN</td>\n      <td>never</td>\n      <td>56</td>\n    </tr>\n    <tr>\n      <th>2126</th>\n      <td>31762</td>\n      <td>city_100</td>\n      <td>0.887</td>\n      <td>Male</td>\n      <td>No relevent experience</td>\n      <td>no_enrollment</td>\n      <td>Primary School</td>\n      <td>NaN</td>\n      <td>3</td>\n      <td>NaN</td>\n      <td>Pvt Ltd</td>\n      <td>never</td>\n      <td>18</td>\n    </tr>\n    <tr>\n      <th>2127</th>\n      <td>7873</td>\n      <td>city_102</td>\n      <td>0.804</td>\n      <td>Male</td>\n      <td>Has relevent experience</td>\n      <td>Full time course</td>\n      <td>High School</td>\n      <td>NaN</td>\n      <td>7</td>\n      <td>100-500</td>\n      <td>Public Sector</td>\n      <td>1</td>\n      <td>84</td>\n    </tr>\n  </tbody>\n</table>\n<p>258 rows × 13 columns</p>\n</div>"
     },
     "metadata": {},
     "execution_count": 21
    }
   ],
   "source": [
    "import pandas as pd\n",
    "\n",
    "test_df = pd.read_csv(\"test.csv\")\n",
    "test_df[(~test_df['education_level'].isnull()) & (test_df['education_level'].str.match(r'\\w+ \\w+'))]"
   ]
  },
  {
   "cell_type": "code",
   "execution_count": null,
   "metadata": {},
   "outputs": [],
   "source": []
  }
 ]
}