{
 "cells": [
  {
   "attachments": {},
   "cell_type": "markdown",
   "metadata": {},
   "source": [
    "$$ \n",
    "MSE = \\frac{1}{n} \\sum_{i=1}^{n}(y_i-\\hat{y_i})^2 = \\frac{1}{n} \\sum_{i=1}^{n}(y_i-\\hat{f}(x_i))^2\n",
    "$$"
   ]
  },
  {
   "attachments": {},
   "cell_type": "markdown",
   "metadata": {},
   "source": [
    "2.4 Exercises\n",
    "\n",
    "1. For each of parts (a) through (d), indicate whether we would generally expect the performance of a flexible statistical learning method to be better or worse than an inflexible method. Justify your answer.\n",
    "(a) The sample size n is extremely large, and the number of predictors p is small.\n",
    "(b) The number of predictors p is extremely large, and the number of observations n is small.\n",
    "(c) The relationship between the predictors and response is highly non-linear.\n",
    "(d) The variance of the error terms, i.e. σ2 = Var(ϵ), is extremely high.\n",
    "\n",
    "Answer:\n",
    "(a) "
   ]
  }
 ],
 "metadata": {
  "language_info": {
   "name": "python"
  },
  "orig_nbformat": 4
 },
 "nbformat": 4,
 "nbformat_minor": 2
}
