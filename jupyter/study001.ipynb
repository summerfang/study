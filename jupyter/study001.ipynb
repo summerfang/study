{
 "cells": [
  {
   "cell_type": "code",
   "execution_count": 2,
   "metadata": {},
   "outputs": [
    {
     "name": "stdout",
     "output_type": "stream",
     "text": [
      "None\n"
     ]
    }
   ],
   "source": [
    "import requests\n",
    "from bs4 import BeautifulSoup\n",
    "\n",
    "url = 'https://www.naver.com/'\n",
    "html = requests.get(url).text   # html text\n",
    "soup = BeautifulSoup(html, 'html.parser')   # html parser\n",
    "table = soup.find('div', {'class': 'ah_roll_area PM_CL_realtimeKeyword_rolling'})   # find div tag\n",
    "print(table)"
   ]
  }
 ],
 "metadata": {
  "kernelspec": {
   "display_name": "base",
   "language": "python",
   "name": "python3"
  },
  "language_info": {
   "codemirror_mode": {
    "name": "ipython",
    "version": 3
   },
   "file_extension": ".py",
   "mimetype": "text/x-python",
   "name": "python",
   "nbconvert_exporter": "python",
   "pygments_lexer": "ipython3",
   "version": "3.9.6"
  },
  "orig_nbformat": 2,
  "vscode": {
   "interpreter": {
    "hash": "4dfbe5c73270b387ef522b74c69f79ee852b757b3d248966ea86475aa54b371c"
   }
  }
 },
 "nbformat": 4,
 "nbformat_minor": 2
}
