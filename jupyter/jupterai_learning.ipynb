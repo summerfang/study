{
 "cells": [
  {
   "cell_type": "code",
   "execution_count": 2,
   "id": "6416779e-44ef-4d56-9a61-5b11b21ece54",
   "metadata": {
    "tags": []
   },
   "outputs": [
    {
     "name": "stdout",
     "output_type": "stream",
     "text": [
      "The jupyter_ai extension is already loaded. To reload it, use:\n",
      "  %reload_ext jupyter_ai\n"
     ]
    }
   ],
   "source": [
    "%load_ext jupyter_ai"
   ]
  },
  {
   "cell_type": "code",
   "execution_count": 7,
   "id": "95950a50-076d-4841-8711-ae4ea57b219c",
   "metadata": {
    "tags": []
   },
   "outputs": [
    {
     "data": {
      "text/markdown": [
       "```python\n",
       "def square_root(n):\n",
       "    \"\"\"\n",
       "    Calculate the square root of a given number using the binary search method.\n",
       "    \"\"\"\n",
       "\n",
       "    # Set the lower and upper bounds for the search\n",
       "    low = 0\n",
       "    high = n\n",
       "\n",
       "    # Set a maximum number of iterations and a tolerance level\n",
       "    max_iterations = 1000\n",
       "    tolerance = 1e-10\n",
       "\n",
       "    # Iterate until convergence or until the maximum number of iterations is reached\n",
       "    for i in range(max_iterations):\n",
       "        # Calculate the midpoint of the current range\n",
       "        mid = (low + high) / 2\n",
       "\n",
       "        # If the square of the midpoint is close enough to n, return the midpoint as the square root\n",
       "        if abs(mid ** 2 - n) < tolerance:\n",
       "            return mid\n",
       "\n",
       "        # If the square of the midpoint is less than n, update the lower bound\n",
       "        elif mid ** 2 < n:\n",
       "            low = mid\n",
       "\n",
       "        # If the square of the midpoint is greater than n, update the upper bound\n",
       "        else:\n",
       "            high = mid\n",
       "\n",
       "    # If the maximum number of iterations is reached and convergence has not been achieved, return None\n",
       "    return None\n",
       "\n",
       "# Test the function with a few different values of n\n",
       "print(square_root(2))   # should be approximately 1.41421356237\n",
       "print(square_root(10))  # should be approximately 3.16227766017\n",
       "print(square_root(25))  # should be exactly 5.0\n",
       "```"
      ],
      "text/plain": [
       "<IPython.core.display.Markdown object>"
      ]
     },
     "execution_count": 7,
     "metadata": {
      "text/markdown": {
       "jupyter_ai": {
        "model_id": "gpt-3.5-turbo",
        "provider_id": "openai-chat"
       }
      }
     },
     "output_type": "execute_result"
    }
   ],
   "source": [
    "%%ai chatgpt\n",
    "please write python code for square root of n\n"
   ]
  },
  {
   "cell_type": "code",
   "execution_count": 8,
   "id": "b00ceafa-935f-49f5-867b-2afdc344e00d",
   "metadata": {
    "tags": []
   },
   "outputs": [
    {
     "data": {
      "text/latex": [
       "$\\displaystyle \n",
       "\\frac{\\partial u}{\\partial t} = \\alpha\\left(\\frac{\\partial^2 u}{\\partial x^2} + \\frac{\\partial^2 u}{\\partial y^2}\\right) + f(x,y,t)\n",
       "$"
      ],
      "text/plain": [
       "<IPython.core.display.Math object>"
      ]
     },
     "execution_count": 8,
     "metadata": {
      "text/latex": {
       "jupyter_ai": {
        "model_id": "gpt-3.5-turbo",
        "provider_id": "openai-chat"
       }
      }
     },
     "output_type": "execute_result"
    }
   ],
   "source": [
    "%%ai chatgpt -f math\n",
    "generate the 2D heat equation."
   ]
  },
  {
   "cell_type": "code",
   "execution_count": 9,
   "id": "0bae0b61-2ac9-4d07-b8ec-027b35312b40",
   "metadata": {
    "tags": []
   },
   "outputs": [
    {
     "data": {
      "text/markdown": [
       "# Happy Birthday Weijia!\n",
       "\n",
       "A beautiful day for a beautiful soul,  \n",
       "May 18th brings blessings and cheers,  \n",
       "As you turn twenty-three on the roll,  \n",
       "Your future is bright with no fears.  \n",
       "\n",
       "With data science as your major,  \n",
       "The world of innovation is yours to explore,  \n",
       "A path filled with endless power,  \n",
       "And knowledge to tap for more.  \n",
       "\n",
       "Your intelligence and passion shine,  \n",
       "In all that you do and aspire,  \n",
       "May you embrace all that's fine,  \n",
       "Your dreams, goals, and desires.  \n",
       "\n",
       "As you reach this milestone dear,  \n",
       "May your heart be filled with peace,  \n",
       "Your dreams and wishes come near,  \n",
       "And your joys never cease.  \n",
       "\n",
       "Happy birthday, Weijia, with love,  \n",
       "From your family, friends, far and near,  \n",
       "May you enjoy blessings from above,  \n",
       "A new year filled with love and cheer!"
      ],
      "text/plain": [
       "<IPython.core.display.Markdown object>"
      ]
     },
     "execution_count": 9,
     "metadata": {
      "text/markdown": {
       "jupyter_ai": {
        "model_id": "gpt-3.5-turbo",
        "provider_id": "openai-chat"
       }
      }
     },
     "output_type": "execute_result"
    }
   ],
   "source": [
    "%%ai chatgpt\n",
    "Please write a poem for my daughter Weijia. Congratulate her birthday on May 18 for her 23 year old. She is in USC and major in data science"
   ]
  },
  {
   "cell_type": "code",
   "execution_count": null,
   "id": "000803be-a05a-49cb-84ff-c50dc63b207b",
   "metadata": {},
   "outputs": [],
   "source": []
  }
 ],
 "metadata": {
  "kernelspec": {
   "display_name": "Python 3 (ipykernel)",
   "language": "python",
   "name": "python3"
  },
  "language_info": {
   "codemirror_mode": {
    "name": "ipython",
    "version": 3
   },
   "file_extension": ".py",
   "mimetype": "text/x-python",
   "name": "python",
   "nbconvert_exporter": "python",
   "pygments_lexer": "ipython3",
   "version": "3.10.11"
  }
 },
 "nbformat": 4,
 "nbformat_minor": 5
}
