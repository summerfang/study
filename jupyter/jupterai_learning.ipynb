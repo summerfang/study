{
 "cells": [
  {
   "cell_type": "code",
   "execution_count": 1,
   "id": "6416779e-44ef-4d56-9a61-5b11b21ece54",
   "metadata": {
    "tags": []
   },
   "outputs": [],
   "source": [
    "%load_ext jupyter_ai"
   ]
  },
  {
   "cell_type": "code",
   "execution_count": 2,
   "id": "95950a50-076d-4841-8711-ae4ea57b219c",
   "metadata": {
    "tags": []
   },
   "outputs": [
    {
     "data": {
      "text/markdown": [
       "### Python code for square root of n:\n",
       "\n",
       "```python\n",
       "import math\n",
       "\n",
       "def square_root(n):\n",
       "    \"\"\"\n",
       "    Returns the square root of n using the in-built math.sqrt function.\n",
       "    \"\"\"\n",
       "    return math.sqrt(n)\n",
       "```\n",
       "\n",
       "Usage:\n",
       "\n",
       "```python\n",
       "# Call the function with the input number.\n",
       "print(square_root(16)) # Output: 4.0\n",
       "```"
      ],
      "text/plain": [
       "<IPython.core.display.Markdown object>"
      ]
     },
     "execution_count": 2,
     "metadata": {
      "text/markdown": {
       "jupyter_ai": {
        "model_id": "gpt-3.5-turbo",
        "provider_id": "openai-chat"
       }
      }
     },
     "output_type": "execute_result"
    }
   ],
   "source": [
    "%%ai chatgpt\n",
    "please write python code for square root of n\n"
   ]
  },
  {
   "cell_type": "code",
   "execution_count": 4,
   "id": "b00ceafa-935f-49f5-867b-2afdc344e00d",
   "metadata": {
    "tags": []
   },
   "outputs": [
    {
     "data": {
      "text/latex": [
       "$\\displaystyle \n",
       "\\frac{\\partial u}{\\partial t} = \\alpha \\left( \\frac{\\partial^2 u}{\\partial x^2} + \\frac{\\partial^2 u}{\\partial y^2} \\right)\n",
       "$$\n",
       "\n",
       "where $u$ is the temperature as a function of time $t$ and the spatial variables $x$ and $y$, and $\\alpha$ is the thermal diffusivity constant. This equation is known as the two-dimensional heat equation and describes how the temperature changes over time in a region of space with a non-uniform temperature distribution. The left-hand side of the equation represents the rate of change of temperature with time, while the right-hand side gives the rate of diffusion or heat transfer in the $x$ and $y$ directions.$"
      ],
      "text/plain": [
       "<IPython.core.display.Math object>"
      ]
     },
     "execution_count": 4,
     "metadata": {
      "text/latex": {
       "jupyter_ai": {
        "model_id": "gpt-3.5-turbo",
        "provider_id": "openai-chat"
       }
      }
     },
     "output_type": "execute_result"
    }
   ],
   "source": [
    "%%ai chatgpt -f math\n",
    "generate the 2D heat equation."
   ]
  },
  {
   "cell_type": "code",
   "execution_count": 5,
   "id": "0bae0b61-2ac9-4d07-b8ec-027b35312b40",
   "metadata": {
    "tags": []
   },
   "outputs": [
    {
     "data": {
      "text/markdown": [
       "# Happy Birthday Weijia!\n",
       "\n",
       "Twenty-three years ago,  \n",
       "On a special day of May,  \n",
       "A beautiful girl was born,  \n",
       "With bright eyes and a beaming face.\n",
       "\n",
       "As she grew and learned,  \n",
       "It was clear for all to see,  \n",
       "That she had a passion for numbers,  \n",
       "And a love for data analysis and machines.\n",
       "\n",
       "Now in USC, she works hard,  \n",
       "Choosing data science as her major,  \n",
       "With a strong will and determination,  \n",
       "We know she will go far.\n",
       "\n",
       "Weijia, on your special day,  \n",
       "We wish you love, joy and success,  \n",
       "May all your dreams come true,  \n",
       "And your career be full of progress.\n",
       "\n",
       "Happy birthday to our dear daughter,  \n",
       "May you always be happy and blessed,  \n",
       "We love you more than words can say,  \n",
       "And we hope your day is nothing but the best!"
      ],
      "text/plain": [
       "<IPython.core.display.Markdown object>"
      ]
     },
     "execution_count": 5,
     "metadata": {
      "text/markdown": {
       "jupyter_ai": {
        "model_id": "gpt-3.5-turbo",
        "provider_id": "openai-chat"
       }
      }
     },
     "output_type": "execute_result"
    }
   ],
   "source": [
    "%%ai chatgpt\n",
    "Please write a poem for my daughter Weijia. Congratulate her birthday on May 18 for her 23 year old. She is in USC and major in data science"
   ]
  },
  {
   "cell_type": "code",
   "execution_count": null,
   "id": "000803be-a05a-49cb-84ff-c50dc63b207b",
   "metadata": {},
   "outputs": [],
   "source": []
  }
 ],
 "metadata": {
  "kernelspec": {
   "display_name": "Python 3 (ipykernel)",
   "language": "python",
   "name": "python3"
  },
  "language_info": {
   "codemirror_mode": {
    "name": "ipython",
    "version": 3
   },
   "file_extension": ".py",
   "mimetype": "text/x-python",
   "name": "python",
   "nbconvert_exporter": "python",
   "pygments_lexer": "ipython3",
   "version": "3.9.6"
  }
 },
 "nbformat": 4,
 "nbformat_minor": 5
}
