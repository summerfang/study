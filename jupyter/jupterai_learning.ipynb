{
 "cells": [
  {
   "cell_type": "code",
   "execution_count": 2,
   "id": "6416779e-44ef-4d56-9a61-5b11b21ece54",
   "metadata": {
    "tags": []
   },
   "outputs": [],
   "source": [
    "%load_ext jupyter_ai"
   ]
  },
  {
   "cell_type": "code",
   "execution_count": 3,
   "id": "95950a50-076d-4841-8711-ae4ea57b219c",
   "metadata": {
    "tags": []
   },
   "outputs": [
    {
     "data": {
      "text/markdown": [
       "```python\n",
       "import math\n",
       "\n",
       "n = 25\n",
       "sqrt_n = math.sqrt(n)\n",
       "\n",
       "print(f\"The square root of {n} is {sqrt_n}\")\n",
       "```\n",
       "\n",
       "Output:\n",
       "\n",
       "```\n",
       "The square root of 25 is 5.0\n",
       "```"
      ],
      "text/plain": [
       "<IPython.core.display.Markdown object>"
      ]
     },
     "execution_count": 3,
     "metadata": {
      "text/markdown": {
       "jupyter_ai": {
        "model_id": "gpt-3.5-turbo",
        "provider_id": "openai-chat"
       }
      }
     },
     "output_type": "execute_result"
    }
   ],
   "source": [
    "%%ai chatgpt\n",
    "please write python code for square root of n\n"
   ]
  },
  {
   "cell_type": "code",
   "execution_count": 4,
   "id": "b00ceafa-935f-49f5-867b-2afdc344e00d",
   "metadata": {
    "tags": []
   },
   "outputs": [
    {
     "data": {
      "text/latex": [
       "$\\displaystyle \n",
       "\\frac{\\partial u}{\\partial t} = \\alpha \\left( \\frac{\\partial^2 u}{\\partial x^2} + \\frac{\\partial^2 u}{\\partial y^2} \\right)\n",
       "$"
      ],
      "text/plain": [
       "<IPython.core.display.Math object>"
      ]
     },
     "execution_count": 4,
     "metadata": {
      "text/latex": {
       "jupyter_ai": {
        "model_id": "gpt-3.5-turbo",
        "provider_id": "openai-chat"
       }
      }
     },
     "output_type": "execute_result"
    }
   ],
   "source": [
    "%%ai chatgpt -f math\n",
    "generate the 2D heat equation."
   ]
  },
  {
   "cell_type": "code",
   "execution_count": 5,
   "id": "0bae0b61-2ac9-4d07-b8ec-027b35312b40",
   "metadata": {
    "tags": []
   },
   "outputs": [
    {
     "data": {
      "text/markdown": [
       "# *A Birthday Poem for Weijia*\n",
       "\n",
       "On this special day of yours, dear Weijia,\n",
       "As you turn twenty-three,\n",
       "Let our good wishes and love surround you,\n",
       "As you go on with your journey with glee.\n",
       "\n",
       "Your smile brightens up our days,\n",
       "And your laughter fills our hearts with joy,\n",
       "You make us proud in so many ways,\n",
       "As you meet every challenge with poise.\n",
       "\n",
       "May this new year of your life be glorious,\n",
       "Filled with moments of happiness and delight,\n",
       "May you find success and fulfillment,\n",
       "In your pursuits, both day and night.\n",
       "\n",
       "Data science is your chosen path,\n",
       "And we know you'll go far,\n",
       "Your dedication and hard work,\n",
       "Will always be your shining star.\n",
       "\n",
       "As you celebrate this special day,\n",
       "With family, friends, and those you hold dear,\n",
       "Know that we love you more than words can say,\n",
       "And we wish you a very happy birthday, my dear Weijia!"
      ],
      "text/plain": [
       "<IPython.core.display.Markdown object>"
      ]
     },
     "execution_count": 5,
     "metadata": {
      "text/markdown": {
       "jupyter_ai": {
        "model_id": "gpt-3.5-turbo",
        "provider_id": "openai-chat"
       }
      }
     },
     "output_type": "execute_result"
    }
   ],
   "source": [
    "%%ai chatgpt\n",
    "Please write a poem for my daughter Weijia. Congratulate her birthday on May 18 for her 23 year old. She is in USC and major in data science"
   ]
  },
  {
   "cell_type": "code",
   "execution_count": null,
   "id": "000803be-a05a-49cb-84ff-c50dc63b207b",
   "metadata": {},
   "outputs": [],
   "source": []
  }
 ],
 "metadata": {
  "kernelspec": {
   "display_name": "Python 3 (ipykernel)",
   "language": "python",
   "name": "python3"
  },
  "language_info": {
   "codemirror_mode": {
    "name": "ipython",
    "version": 3
   },
   "file_extension": ".py",
   "mimetype": "text/x-python",
   "name": "python",
   "nbconvert_exporter": "python",
   "pygments_lexer": "ipython3",
   "version": "3.10.11"
  }
 },
 "nbformat": 4,
 "nbformat_minor": 5
}
