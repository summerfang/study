{
 "metadata": {
  "language_info": {
   "codemirror_mode": {
    "name": "ipython",
    "version": 3
   },
   "file_extension": ".py",
   "mimetype": "text/x-python",
   "name": "python",
   "nbconvert_exporter": "python",
   "pygments_lexer": "ipython3",
   "version": "3.8.5"
  },
  "orig_nbformat": 2,
  "kernelspec": {
   "name": "python385jvsc74a57bd0b7715454c2ccbe0e2a027b1cff72b853c9de614534ab0ab518c1e586ef9a00c6",
   "display_name": "Python 3.8.5 64-bit ('base': conda)"
  },
  "metadata": {
   "interpreter": {
    "hash": "31f2aee4e71d21fbe5cf8b01ff0e069b9275f58929596ceb00d14d90e3e16cd6"
   }
  }
 },
 "nbformat": 4,
 "nbformat_minor": 2,
 "cells": [
  {
   "cell_type": "code",
   "execution_count": 9,
   "metadata": {},
   "outputs": [
    {
     "output_type": "stream",
     "name": "stdout",
     "text": [
      "   carat      cut  price color clarity  depth  table\n",
      "0   0.23    Ideal    326     E     SI2   61.5   55.0\n",
      "1   0.21  Premium    326     E     SI1   59.8   61.0\n",
      "2   0.23     Good    327     E     VS1   56.9   65.0\n",
      "3   0.29  Premium    334     I     VS2   62.4   58.0\n",
      "       carat        cut  price color clarity  depth  table\n",
      "27455   1.14  Very Good  18112     D      IF   59.1   58.0\n",
      "27457   1.07  Very Good  18114     D      IF   60.9   58.0\n",
      "27530   1.07    Premium  18279     D      IF   60.9   58.0\n",
      "27635   1.04  Very Good  18542     D      IF   61.3   56.0\n",
      "27507   1.09  Very Good  18231     D      IF   61.7   58.0\n",
      "/Users/jianbfan/opt/anaconda3/lib/python3.8/site-packages/ipykernel/ipkernel.py:287: DeprecationWarning: `should_run_async` will not call `transform_cell` automatically in the future. Please pass the result to `transformed_cell` argument and any exception that happen during thetransform in `preprocessing_exc_tuple` in IPython 7.17 and above.\n",
      "  and should_run_async(code)\n"
     ]
    }
   ],
   "source": [
    "# import pandas\n",
    "# import dplython \n",
    "\n",
    "# df_test = pandas.read_csv(\"test.csv\")\n",
    "\n",
    "# df = dplython.DataFrame(df_test)\n",
    "\n",
    "# df >> head(4)\n",
    "\n",
    "import pandas\n",
    "from dplython import (DplyFrame, X, diamonds, select, sift, sample_n,\n",
    "    sample_frac, head, arrange, mutate, group_by, summarize, DelayFunction) \n",
    "\n",
    "diamondsSmall = diamonds >> select(X.carat, X.cut, X.price, X.color, X.clarity  , X.depth  , X.table)\n",
    "print(diamondsSmall >> head(4)) \n",
    "print((diamondsSmall >> sift(X.price > 18000, X.carat < 1.2) >> arrange(X.depth)))\n",
    "\n",
    "# It is still not mature.\n"
   ]
  },
  {
   "cell_type": "code",
   "execution_count": null,
   "metadata": {},
   "outputs": [],
   "source": []
  }
 ]
}