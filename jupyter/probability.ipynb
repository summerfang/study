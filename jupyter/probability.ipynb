{
 "cells": [
  {
   "attachments": {},
   "cell_type": "markdown",
   "metadata": {},
   "source": [
    "### Conditional Probability (Bayes' Rule)\n",
    "\n",
    "* P(A) is the opportunity of rain, let's assume it is 20%\n",
    "* P(B) is late to office, let's assume it is 10%\n",
    "* P(A|B) is if late to office, how many percentage of times are raining? Let's assume it is 50%\n",
    "\n",
    "$$\n",
    "P(B|A) = \\frac{P(A|B)*P(B)}{P(A)} = \\frac {0.5 * 0.1}{0.2} = 0.25\n",
    "$$"
   ]
  }
 ],
 "metadata": {
  "language_info": {
   "name": "python"
  },
  "orig_nbformat": 4
 },
 "nbformat": 4,
 "nbformat_minor": 2
}
